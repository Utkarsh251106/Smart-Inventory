{
 "cells": [
  {
   "cell_type": "code",
   "execution_count": 1,
   "id": "21d324b6-0a22-45d8-85d0-753a79451a77",
   "metadata": {},
   "outputs": [],
   "source": [
    "#Importing the libraries\n",
    "import cv2\n",
    "import requests\n",
    "from ultralytics import YOLO \n",
    "import matplotlib as plt\n",
    "import os"
   ]
  },
  {
   "cell_type": "code",
   "execution_count": 2,
   "id": "1c6156f4-dc54-4020-9ee3-7c1bdb5b15fd",
   "metadata": {},
   "outputs": [],
   "source": [
    "# Load YOLO11n model\n",
    "model_path = os.path.join(\"..\", \"models\", \"best.pt\")\n",
    "model = YOLO(model_path)"
   ]
  },
  {
   "cell_type": "code",
   "execution_count": null,
   "id": "ac49686f-8676-48c3-9163-b5e343dc8998",
   "metadata": {},
   "outputs": [],
   "source": [
    "# Telegram Bot Details\n",
    "BOT_TOKEN = os.getenv(\"BOT_TOKEN\")  # Replace with your Telegram bot token\n",
    "CHAT_ID = os.getenv(\"CHAT_ID\") # Replace with your Telegram chat ID"
   ]
  },
  {
   "cell_type": "code",
   "execution_count": null,
   "id": "303bf181-7dff-440d-956b-880d93422f95",
   "metadata": {},
   "outputs": [],
   "source": [
    "#Telegram related functions for message delivery\n",
    "def send_telegram_alert(message):\n",
    "    \"\"\"Send a Telegram message\"\"\"\n",
    "    url = f\"https://api.telegram.org/bot{BOT_TOKEN}/sendMessage\"\n",
    "    payload = {\"chat_id\": CHAT_ID, \"text\": message}\n",
    "    response = requests.post(url, json=payload)\n",
    "    print(\"✅ Telegram alert sent!\", response.json())"
   ]
  },
  {
   "cell_type": "code",
   "execution_count": null,
   "id": "42de778f-d3f8-456a-bc43-66d9be87ad0b",
   "metadata": {},
   "outputs": [],
   "source": [
    "image_path = \"img_5.jpg\"  # Change this to your image\n",
    "output_path = \"test and output data/output images/output_tomato.jpg\"\n",
    "image = cv2.imread(image_path)\n",
    "\n",
    "# Run YOLOv8 detection\n",
    "results = model(image)\n",
    "\n",
    "# Extract tomato detections (Assuming class 0 = Tomato)\n",
    "tomato_count = 0\n",
    "for r in results:\n",
    "    for box in r.boxes:\n",
    "        class_id = int(box.cls[0])  # Class index\n",
    "        confidence = float(box.conf[0])  # Confidence score\n",
    "        if class_id == 0 and confidence >= 0.3:  # Filter tomatoes with confidence > 30%\n",
    "            tomato_count += 1\n",
    "            x1, y1, x2, y2 = map(int, box.xyxy[0])  # Get bounding box coordinates\n",
    "            cv2.rectangle(image, (x1, y1), (x2, y2), (0, 255, 0), 2)  # Draw box\n",
    "            cv2.putText(image, f\"Tomato\", (x1, y1 - 5),\n",
    "                        cv2.FONT_HERSHEY_SIMPLEX, 0.5, (0, 255, 0), 2)\n",
    "\n",
    "# Display count on image\n",
    "cv2.putText(image, f\"Tomatoes: {tomato_count}\", (20, 40),\n",
    "            cv2.FONT_HERSHEY_SIMPLEX, 1, (0, 0, 255), 2)\n",
    "\n",
    "# Save output image\n",
    "cv2.imwrite(output_path, image)\n",
    "print(f\"✅ Output saved as {output_path}\")\n",
    "\n",
    "# Send Telegram alert if tomatoes are less than 5\n",
    "if tomato_count < 5:\n",
    "    alert_message = f\"⚠️ Low Tomato Alert! Only {tomato_count} detected.\"\n",
    "    send_telegram_alert(alert_message)\n"
   ]
  },
  {
   "cell_type": "code",
   "execution_count": null,
   "id": "dd315940-8a8d-47f8-b72b-2c11bfb01624",
   "metadata": {},
   "outputs": [],
   "source": [
    "cv2.imshow(\"Tomato Detection\", image)\n",
    "cv2.waitKey(0)\n",
    "cv2.destroyAllWindows()"
   ]
  }
 ],
 "metadata": {
  "kernelspec": {
   "display_name": "base",
   "language": "python",
   "name": "python3"
  },
  "language_info": {
   "codemirror_mode": {
    "name": "ipython",
    "version": 3
   },
   "file_extension": ".py",
   "mimetype": "text/x-python",
   "name": "python",
   "nbconvert_exporter": "python",
   "pygments_lexer": "ipython3",
   "version": "3.12.7"
  }
 },
 "nbformat": 4,
 "nbformat_minor": 5
}
