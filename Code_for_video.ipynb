{
 "cells": [
  {
   "cell_type": "code",
   "execution_count": null,
   "id": "4d8ecac9-7c02-4f10-9528-05e5898be5c0",
   "metadata": {},
   "outputs": [],
   "source": [
    "#Importing the libraries\n",
    "import cv2 \n",
    "from ultralytics import YOLO\n",
    "import time\n",
    "import requests"
   ]
  },
  {
   "cell_type": "code",
   "execution_count": null,
   "id": "2abd5eca-7626-4610-a257-369fed3cfa51",
   "metadata": {},
   "outputs": [],
   "source": [
    "# Load YOLO11n model\n",
    "model = YOLO('runs/model/best.pt')"
   ]
  },
  {
   "cell_type": "code",
   "execution_count": null,
   "id": "bc515f9f-463a-4a84-a1f5-f9d1af9825d6",
   "metadata": {},
   "outputs": [],
   "source": [
    "# Telegram Bot Details\n",
    "BOT_TOKEN = \"8188314211:AAHSYtQZJl57XXCMF52BLSJIrLzdFfz7KhQ\"  # Replace with your Telegram bot token\n",
    "CHAT_ID = \"1443202982\"  # Replace with your Telegram chat ID"
   ]
  },
  {
   "cell_type": "code",
   "execution_count": null,
   "id": "d0fb701c-1966-442a-8edd-b05aa607fdc8",
   "metadata": {},
   "outputs": [],
   "source": [
    "#Telegram related functions for message delivery\n",
    "def send_telegram_alert(message):\n",
    "    \"\"\"Send a Telegram message\"\"\"\n",
    "    url = f\"https://api.telegram.org/bot{BOT_TOKEN}/sendMessage\"\n",
    "    payload = {\"chat_id\": CHAT_ID, \"text\": message}\n",
    "    response = requests.post(url, json=payload)\n",
    "    print(\"✅ Telegram alert sent!\", response.json())"
   ]
  },
  {
   "cell_type": "code",
   "execution_count": null,
   "id": "8b1fac84-1162-4f5b-b59c-9d386284fbb7",
   "metadata": {},
   "outputs": [],
   "source": [
    "# Load video\n",
    "video_path = \"test videos/tomato_video.mp4\"  # Change this to your video file\n",
    "output_path = \"test and output data/output videos/output_video_2.mp4\""
   ]
  },
  {
   "cell_type": "code",
   "execution_count": null,
   "id": "54161fd3-a559-40eb-8eba-878bb80d3f8d",
   "metadata": {},
   "outputs": [],
   "source": [
    "cap = cv2.VideoCapture(video_path)\n",
    "frame_width = int(cap.get(3))\n",
    "frame_height = int(cap.get(4))\n",
    "fps = int(cap.get(cv2.CAP_PROP_FPS))  # Get FPS to calculate time"
   ]
  },
  {
   "cell_type": "code",
   "execution_count": null,
   "id": "557c049c-dec7-45c7-b537-ec640529c960",
   "metadata": {},
   "outputs": [],
   "source": [
    "# Video writer to save output\n",
    "fourcc = cv2.VideoWriter_fourcc(*\"mp4v\")\n",
    "out = cv2.VideoWriter(output_path, fourcc, fps, (frame_width, frame_height))"
   ]
  },
  {
   "cell_type": "code",
   "execution_count": null,
   "id": "95d9a310-a60a-4ab9-911e-34ddb7bbf1a9",
   "metadata": {},
   "outputs": [],
   "source": [
    "low_count_start_time = None  # Time when tomatoes go below 5\n",
    "alert_sent = False  # To track if alert has been sent"
   ]
  },
  {
   "cell_type": "code",
   "execution_count": null,
   "id": "ef7bcadf-8b72-44d3-9ece-5914795f8caf",
   "metadata": {},
   "outputs": [],
   "source": [
    "while cap.isOpened():\n",
    "    ret, frame = cap.read()\n",
    "    if not ret:\n",
    "        print(\"❌ Error: Frame could not be read. Video might be corrupted or incompatible.\")\n",
    "        send_telegram_alert(\"❌ Error: Frame could not be read. Video might be corrupted or incompatible.\")\n",
    "        break\n",
    "\n",
    "    # Run YOLOv8 detection\n",
    "    results = model(frame)\n",
    "\n",
    "    # Count tomatoes (Assuming class 0 = Tomato)\n",
    "    tomato_count = 0\n",
    "    for r in results:\n",
    "        for box in r.boxes:\n",
    "            class_id = int(box.cls[0])  # Class index\n",
    "            confidence = float(box.conf[0])  # Confidence score\n",
    "            if class_id == 0 and confidence >= 0.3:  # Filter tomatoes\n",
    "                tomato_count += 1\n",
    "                x1, y1, x2, y2 = map(int, box.xyxy[0])\n",
    "                cv2.rectangle(frame, (x1, y1), (x2, y2), (0, 255, 0), 2)\n",
    "                cv2.putText(frame, \"Tomato\", (x1, y1 - 5),\n",
    "                            cv2.FONT_HERSHEY_SIMPLEX, 0.5, (0, 255, 0), 2)\n",
    "\n",
    "    # Display count on video\n",
    "    cv2.putText(frame, f\"Tomatoes: {tomato_count}\", (20, 40),\n",
    "                cv2.FONT_HERSHEY_SIMPLEX, 1, (0, 0, 255), 2)\n",
    "\n",
    "    # Save frame to video\n",
    "    out.write(frame)\n",
    "\n",
    "    # Check if tomato count is less than 5\n",
    "    if tomato_count < 5:\n",
    "        if low_count_start_time is None:  \n",
    "            low_count_start_time = time.time()  # Start timer\n",
    "        elif time.time() - low_count_start_time >= 5 and not alert_sent:  \n",
    "            send_telegram_alert(f\"⚠️ Low Tomato Alert! Only {tomato_count} detected for 5+ seconds.\")\n",
    "            alert_sent = True  # Prevent multiple alerts\n",
    "    else:\n",
    "        low_count_start_time = None  # Reset timer if count is back to normal\n",
    "        alert_sent = False  # Allow future alerts\n",
    "\n",
    "    # Show frame (optional)\n",
    "    cv2.imshow(\"Tomato Detection\", frame)\n",
    "    if cv2.waitKey(1) & 0xFF == ord('q'):  # Press 'q' to exit\n",
    "        break\n",
    "\n",
    "cap.release()\n",
    "out.release()\n",
    "cv2.destroyAllWindows()\n",
    "\n",
    "print(f\"✅ Processed video saved as {output_path}\")"
   ]
  },
  {
   "cell_type": "code",
   "execution_count": null,
   "id": "18e3f2ef-4114-4902-8166-3392130c900f",
   "metadata": {},
   "outputs": [],
   "source": []
  }
 ],
 "metadata": {
  "kernelspec": {
   "display_name": "Python 3 (ipykernel)",
   "language": "python",
   "name": "python3"
  },
  "language_info": {
   "codemirror_mode": {
    "name": "ipython",
    "version": 3
   },
   "file_extension": ".py",
   "mimetype": "text/x-python",
   "name": "python",
   "nbconvert_exporter": "python",
   "pygments_lexer": "ipython3",
   "version": "3.12.7"
  }
 },
 "nbformat": 4,
 "nbformat_minor": 5
}
