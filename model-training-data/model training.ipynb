{
  "cells": [
    {
      "cell_type": "code",
      "source": [
        "!pip install ultralytics"
      ],
      "metadata": {
        "colab": {
          "base_uri": "https://localhost:8080/"
        },
        "id": "20bgMjMojjN4",
        "outputId": "06875977-6b33-4bc4-acca-97bcb663c896"
      },
      "id": "20bgMjMojjN4",
      "execution_count": null,
      "outputs": [
        {
          "output_type": "stream",
          "name": "stdout",
          "text": [
            "Collecting ultralytics\n",
            "  Downloading ultralytics-8.3.70-py3-none-any.whl.metadata (35 kB)\n",
            "Requirement already satisfied: numpy<=2.1.1,>=1.23.0 in /usr/local/lib/python3.11/dist-packages (from ultralytics) (1.26.4)\n",
            "Requirement already satisfied: matplotlib>=3.3.0 in /usr/local/lib/python3.11/dist-packages (from ultralytics) (3.10.0)\n",
            "Requirement already satisfied: opencv-python>=4.6.0 in /usr/local/lib/python3.11/dist-packages (from ultralytics) (4.10.0.84)\n",
            "Requirement already satisfied: pillow>=7.1.2 in /usr/local/lib/python3.11/dist-packages (from ultralytics) (11.1.0)\n",
            "Requirement already satisfied: pyyaml>=5.3.1 in /usr/local/lib/python3.11/dist-packages (from ultralytics) (6.0.2)\n",
            "Requirement already satisfied: requests>=2.23.0 in /usr/local/lib/python3.11/dist-packages (from ultralytics) (2.32.3)\n",
            "Requirement already satisfied: scipy>=1.4.1 in /usr/local/lib/python3.11/dist-packages (from ultralytics) (1.13.1)\n",
            "Requirement already satisfied: torch>=1.8.0 in /usr/local/lib/python3.11/dist-packages (from ultralytics) (2.5.1+cu124)\n",
            "Requirement already satisfied: torchvision>=0.9.0 in /usr/local/lib/python3.11/dist-packages (from ultralytics) (0.20.1+cu124)\n",
            "Requirement already satisfied: tqdm>=4.64.0 in /usr/local/lib/python3.11/dist-packages (from ultralytics) (4.67.1)\n",
            "Requirement already satisfied: psutil in /usr/local/lib/python3.11/dist-packages (from ultralytics) (5.9.5)\n",
            "Requirement already satisfied: py-cpuinfo in /usr/local/lib/python3.11/dist-packages (from ultralytics) (9.0.0)\n",
            "Requirement already satisfied: pandas>=1.1.4 in /usr/local/lib/python3.11/dist-packages (from ultralytics) (2.2.2)\n",
            "Requirement already satisfied: seaborn>=0.11.0 in /usr/local/lib/python3.11/dist-packages (from ultralytics) (0.13.2)\n",
            "Collecting ultralytics-thop>=2.0.0 (from ultralytics)\n",
            "  Downloading ultralytics_thop-2.0.14-py3-none-any.whl.metadata (9.4 kB)\n",
            "Requirement already satisfied: contourpy>=1.0.1 in /usr/local/lib/python3.11/dist-packages (from matplotlib>=3.3.0->ultralytics) (1.3.1)\n",
            "Requirement already satisfied: cycler>=0.10 in /usr/local/lib/python3.11/dist-packages (from matplotlib>=3.3.0->ultralytics) (0.12.1)\n",
            "Requirement already satisfied: fonttools>=4.22.0 in /usr/local/lib/python3.11/dist-packages (from matplotlib>=3.3.0->ultralytics) (4.55.7)\n",
            "Requirement already satisfied: kiwisolver>=1.3.1 in /usr/local/lib/python3.11/dist-packages (from matplotlib>=3.3.0->ultralytics) (1.4.8)\n",
            "Requirement already satisfied: packaging>=20.0 in /usr/local/lib/python3.11/dist-packages (from matplotlib>=3.3.0->ultralytics) (24.2)\n",
            "Requirement already satisfied: pyparsing>=2.3.1 in /usr/local/lib/python3.11/dist-packages (from matplotlib>=3.3.0->ultralytics) (3.2.1)\n",
            "Requirement already satisfied: python-dateutil>=2.7 in /usr/local/lib/python3.11/dist-packages (from matplotlib>=3.3.0->ultralytics) (2.8.2)\n",
            "Requirement already satisfied: pytz>=2020.1 in /usr/local/lib/python3.11/dist-packages (from pandas>=1.1.4->ultralytics) (2024.2)\n",
            "Requirement already satisfied: tzdata>=2022.7 in /usr/local/lib/python3.11/dist-packages (from pandas>=1.1.4->ultralytics) (2025.1)\n",
            "Requirement already satisfied: charset-normalizer<4,>=2 in /usr/local/lib/python3.11/dist-packages (from requests>=2.23.0->ultralytics) (3.4.1)\n",
            "Requirement already satisfied: idna<4,>=2.5 in /usr/local/lib/python3.11/dist-packages (from requests>=2.23.0->ultralytics) (3.10)\n",
            "Requirement already satisfied: urllib3<3,>=1.21.1 in /usr/local/lib/python3.11/dist-packages (from requests>=2.23.0->ultralytics) (2.3.0)\n",
            "Requirement already satisfied: certifi>=2017.4.17 in /usr/local/lib/python3.11/dist-packages (from requests>=2.23.0->ultralytics) (2024.12.14)\n",
            "Requirement already satisfied: filelock in /usr/local/lib/python3.11/dist-packages (from torch>=1.8.0->ultralytics) (3.17.0)\n",
            "Requirement already satisfied: typing-extensions>=4.8.0 in /usr/local/lib/python3.11/dist-packages (from torch>=1.8.0->ultralytics) (4.12.2)\n",
            "Requirement already satisfied: networkx in /usr/local/lib/python3.11/dist-packages (from torch>=1.8.0->ultralytics) (3.4.2)\n",
            "Requirement already satisfied: jinja2 in /usr/local/lib/python3.11/dist-packages (from torch>=1.8.0->ultralytics) (3.1.5)\n",
            "Requirement already satisfied: fsspec in /usr/local/lib/python3.11/dist-packages (from torch>=1.8.0->ultralytics) (2024.10.0)\n",
            "Collecting nvidia-cuda-nvrtc-cu12==12.4.127 (from torch>=1.8.0->ultralytics)\n",
            "  Downloading nvidia_cuda_nvrtc_cu12-12.4.127-py3-none-manylinux2014_x86_64.whl.metadata (1.5 kB)\n",
            "Collecting nvidia-cuda-runtime-cu12==12.4.127 (from torch>=1.8.0->ultralytics)\n",
            "  Downloading nvidia_cuda_runtime_cu12-12.4.127-py3-none-manylinux2014_x86_64.whl.metadata (1.5 kB)\n",
            "Collecting nvidia-cuda-cupti-cu12==12.4.127 (from torch>=1.8.0->ultralytics)\n",
            "  Downloading nvidia_cuda_cupti_cu12-12.4.127-py3-none-manylinux2014_x86_64.whl.metadata (1.6 kB)\n",
            "Collecting nvidia-cudnn-cu12==9.1.0.70 (from torch>=1.8.0->ultralytics)\n",
            "  Downloading nvidia_cudnn_cu12-9.1.0.70-py3-none-manylinux2014_x86_64.whl.metadata (1.6 kB)\n",
            "Collecting nvidia-cublas-cu12==12.4.5.8 (from torch>=1.8.0->ultralytics)\n",
            "  Downloading nvidia_cublas_cu12-12.4.5.8-py3-none-manylinux2014_x86_64.whl.metadata (1.5 kB)\n",
            "Collecting nvidia-cufft-cu12==11.2.1.3 (from torch>=1.8.0->ultralytics)\n",
            "  Downloading nvidia_cufft_cu12-11.2.1.3-py3-none-manylinux2014_x86_64.whl.metadata (1.5 kB)\n",
            "Collecting nvidia-curand-cu12==10.3.5.147 (from torch>=1.8.0->ultralytics)\n",
            "  Downloading nvidia_curand_cu12-10.3.5.147-py3-none-manylinux2014_x86_64.whl.metadata (1.5 kB)\n",
            "Collecting nvidia-cusolver-cu12==11.6.1.9 (from torch>=1.8.0->ultralytics)\n",
            "  Downloading nvidia_cusolver_cu12-11.6.1.9-py3-none-manylinux2014_x86_64.whl.metadata (1.6 kB)\n",
            "Collecting nvidia-cusparse-cu12==12.3.1.170 (from torch>=1.8.0->ultralytics)\n",
            "  Downloading nvidia_cusparse_cu12-12.3.1.170-py3-none-manylinux2014_x86_64.whl.metadata (1.6 kB)\n",
            "Requirement already satisfied: nvidia-nccl-cu12==2.21.5 in /usr/local/lib/python3.11/dist-packages (from torch>=1.8.0->ultralytics) (2.21.5)\n",
            "Requirement already satisfied: nvidia-nvtx-cu12==12.4.127 in /usr/local/lib/python3.11/dist-packages (from torch>=1.8.0->ultralytics) (12.4.127)\n",
            "Collecting nvidia-nvjitlink-cu12==12.4.127 (from torch>=1.8.0->ultralytics)\n",
            "  Downloading nvidia_nvjitlink_cu12-12.4.127-py3-none-manylinux2014_x86_64.whl.metadata (1.5 kB)\n",
            "Requirement already satisfied: triton==3.1.0 in /usr/local/lib/python3.11/dist-packages (from torch>=1.8.0->ultralytics) (3.1.0)\n",
            "Requirement already satisfied: sympy==1.13.1 in /usr/local/lib/python3.11/dist-packages (from torch>=1.8.0->ultralytics) (1.13.1)\n",
            "Requirement already satisfied: mpmath<1.4,>=1.1.0 in /usr/local/lib/python3.11/dist-packages (from sympy==1.13.1->torch>=1.8.0->ultralytics) (1.3.0)\n",
            "Requirement already satisfied: six>=1.5 in /usr/local/lib/python3.11/dist-packages (from python-dateutil>=2.7->matplotlib>=3.3.0->ultralytics) (1.17.0)\n",
            "Requirement already satisfied: MarkupSafe>=2.0 in /usr/local/lib/python3.11/dist-packages (from jinja2->torch>=1.8.0->ultralytics) (3.0.2)\n",
            "Downloading ultralytics-8.3.70-py3-none-any.whl (914 kB)\n",
            "\u001b[2K   \u001b[90m━━━━━━━━━━━━━━━━━━━━━━━━━━━━━━━━━━━━━━━━\u001b[0m \u001b[32m914.9/914.9 kB\u001b[0m \u001b[31m23.2 MB/s\u001b[0m eta \u001b[36m0:00:00\u001b[0m\n",
            "\u001b[?25hDownloading nvidia_cublas_cu12-12.4.5.8-py3-none-manylinux2014_x86_64.whl (363.4 MB)\n",
            "\u001b[2K   \u001b[90m━━━━━━━━━━━━━━━━━━━━━━━━━━━━━━━━━━━━━━━━\u001b[0m \u001b[32m363.4/363.4 MB\u001b[0m \u001b[31m3.9 MB/s\u001b[0m eta \u001b[36m0:00:00\u001b[0m\n",
            "\u001b[?25hDownloading nvidia_cuda_cupti_cu12-12.4.127-py3-none-manylinux2014_x86_64.whl (13.8 MB)\n",
            "\u001b[2K   \u001b[90m━━━━━━━━━━━━━━━━━━━━━━━━━━━━━━━━━━━━━━━━\u001b[0m \u001b[32m13.8/13.8 MB\u001b[0m \u001b[31m37.1 MB/s\u001b[0m eta \u001b[36m0:00:00\u001b[0m\n",
            "\u001b[?25hDownloading nvidia_cuda_nvrtc_cu12-12.4.127-py3-none-manylinux2014_x86_64.whl (24.6 MB)\n",
            "\u001b[2K   \u001b[90m━━━━━━━━━━━━━━━━━━━━━━━━━━━━━━━━━━━━━━━━\u001b[0m \u001b[32m24.6/24.6 MB\u001b[0m \u001b[31m32.1 MB/s\u001b[0m eta \u001b[36m0:00:00\u001b[0m\n",
            "\u001b[?25hDownloading nvidia_cuda_runtime_cu12-12.4.127-py3-none-manylinux2014_x86_64.whl (883 kB)\n",
            "\u001b[2K   \u001b[90m━━━━━━━━━━━━━━━━━━━━━━━━━━━━━━━━━━━━━━━━\u001b[0m \u001b[32m883.7/883.7 kB\u001b[0m \u001b[31m34.9 MB/s\u001b[0m eta \u001b[36m0:00:00\u001b[0m\n",
            "\u001b[?25hDownloading nvidia_cudnn_cu12-9.1.0.70-py3-none-manylinux2014_x86_64.whl (664.8 MB)\n",
            "\u001b[2K   \u001b[90m━━━━━━━━━━━━━━━━━━━━━━━━━━━━━━━━━━━━━━━━\u001b[0m \u001b[32m664.8/664.8 MB\u001b[0m \u001b[31m2.7 MB/s\u001b[0m eta \u001b[36m0:00:00\u001b[0m\n",
            "\u001b[?25hDownloading nvidia_cufft_cu12-11.2.1.3-py3-none-manylinux2014_x86_64.whl (211.5 MB)\n",
            "\u001b[2K   \u001b[90m━━━━━━━━━━━━━━━━━━━━━━━━━━━━━━━━━━━━━━━━\u001b[0m \u001b[32m211.5/211.5 MB\u001b[0m \u001b[31m5.5 MB/s\u001b[0m eta \u001b[36m0:00:00\u001b[0m\n",
            "\u001b[?25hDownloading nvidia_curand_cu12-10.3.5.147-py3-none-manylinux2014_x86_64.whl (56.3 MB)\n",
            "\u001b[2K   \u001b[90m━━━━━━━━━━━━━━━━━━━━━━━━━━━━━━━━━━━━━━━━\u001b[0m \u001b[32m56.3/56.3 MB\u001b[0m \u001b[31m12.5 MB/s\u001b[0m eta \u001b[36m0:00:00\u001b[0m\n",
            "\u001b[?25hDownloading nvidia_cusolver_cu12-11.6.1.9-py3-none-manylinux2014_x86_64.whl (127.9 MB)\n",
            "\u001b[2K   \u001b[90m━━━━━━━━━━━━━━━━━━━━━━━━━━━━━━━━━━━━━━━━\u001b[0m \u001b[32m127.9/127.9 MB\u001b[0m \u001b[31m7.7 MB/s\u001b[0m eta \u001b[36m0:00:00\u001b[0m\n",
            "\u001b[?25hDownloading nvidia_cusparse_cu12-12.3.1.170-py3-none-manylinux2014_x86_64.whl (207.5 MB)\n",
            "\u001b[2K   \u001b[90m━━━━━━━━━━━━━━━━━━━━━━━━━━━━━━━━━━━━━━━━\u001b[0m \u001b[32m207.5/207.5 MB\u001b[0m \u001b[31m4.5 MB/s\u001b[0m eta \u001b[36m0:00:00\u001b[0m\n",
            "\u001b[?25hDownloading nvidia_nvjitlink_cu12-12.4.127-py3-none-manylinux2014_x86_64.whl (21.1 MB)\n",
            "\u001b[2K   \u001b[90m━━━━━━━━━━━━━━━━━━━━━━━━━━━━━━━━━━━━━━━━\u001b[0m \u001b[32m21.1/21.1 MB\u001b[0m \u001b[31m57.7 MB/s\u001b[0m eta \u001b[36m0:00:00\u001b[0m\n",
            "\u001b[?25hDownloading ultralytics_thop-2.0.14-py3-none-any.whl (26 kB)\n",
            "Installing collected packages: nvidia-nvjitlink-cu12, nvidia-curand-cu12, nvidia-cufft-cu12, nvidia-cuda-runtime-cu12, nvidia-cuda-nvrtc-cu12, nvidia-cuda-cupti-cu12, nvidia-cublas-cu12, nvidia-cusparse-cu12, nvidia-cudnn-cu12, nvidia-cusolver-cu12, ultralytics-thop, ultralytics\n",
            "  Attempting uninstall: nvidia-nvjitlink-cu12\n",
            "    Found existing installation: nvidia-nvjitlink-cu12 12.5.82\n",
            "    Uninstalling nvidia-nvjitlink-cu12-12.5.82:\n",
            "      Successfully uninstalled nvidia-nvjitlink-cu12-12.5.82\n",
            "  Attempting uninstall: nvidia-curand-cu12\n",
            "    Found existing installation: nvidia-curand-cu12 10.3.6.82\n",
            "    Uninstalling nvidia-curand-cu12-10.3.6.82:\n",
            "      Successfully uninstalled nvidia-curand-cu12-10.3.6.82\n",
            "  Attempting uninstall: nvidia-cufft-cu12\n",
            "    Found existing installation: nvidia-cufft-cu12 11.2.3.61\n",
            "    Uninstalling nvidia-cufft-cu12-11.2.3.61:\n",
            "      Successfully uninstalled nvidia-cufft-cu12-11.2.3.61\n",
            "  Attempting uninstall: nvidia-cuda-runtime-cu12\n",
            "    Found existing installation: nvidia-cuda-runtime-cu12 12.5.82\n",
            "    Uninstalling nvidia-cuda-runtime-cu12-12.5.82:\n",
            "      Successfully uninstalled nvidia-cuda-runtime-cu12-12.5.82\n",
            "  Attempting uninstall: nvidia-cuda-nvrtc-cu12\n",
            "    Found existing installation: nvidia-cuda-nvrtc-cu12 12.5.82\n",
            "    Uninstalling nvidia-cuda-nvrtc-cu12-12.5.82:\n",
            "      Successfully uninstalled nvidia-cuda-nvrtc-cu12-12.5.82\n",
            "  Attempting uninstall: nvidia-cuda-cupti-cu12\n",
            "    Found existing installation: nvidia-cuda-cupti-cu12 12.5.82\n",
            "    Uninstalling nvidia-cuda-cupti-cu12-12.5.82:\n",
            "      Successfully uninstalled nvidia-cuda-cupti-cu12-12.5.82\n",
            "  Attempting uninstall: nvidia-cublas-cu12\n",
            "    Found existing installation: nvidia-cublas-cu12 12.5.3.2\n",
            "    Uninstalling nvidia-cublas-cu12-12.5.3.2:\n",
            "      Successfully uninstalled nvidia-cublas-cu12-12.5.3.2\n",
            "  Attempting uninstall: nvidia-cusparse-cu12\n",
            "    Found existing installation: nvidia-cusparse-cu12 12.5.1.3\n",
            "    Uninstalling nvidia-cusparse-cu12-12.5.1.3:\n",
            "      Successfully uninstalled nvidia-cusparse-cu12-12.5.1.3\n",
            "  Attempting uninstall: nvidia-cudnn-cu12\n",
            "    Found existing installation: nvidia-cudnn-cu12 9.3.0.75\n",
            "    Uninstalling nvidia-cudnn-cu12-9.3.0.75:\n",
            "      Successfully uninstalled nvidia-cudnn-cu12-9.3.0.75\n",
            "  Attempting uninstall: nvidia-cusolver-cu12\n",
            "    Found existing installation: nvidia-cusolver-cu12 11.6.3.83\n",
            "    Uninstalling nvidia-cusolver-cu12-11.6.3.83:\n",
            "      Successfully uninstalled nvidia-cusolver-cu12-11.6.3.83\n",
            "Successfully installed nvidia-cublas-cu12-12.4.5.8 nvidia-cuda-cupti-cu12-12.4.127 nvidia-cuda-nvrtc-cu12-12.4.127 nvidia-cuda-runtime-cu12-12.4.127 nvidia-cudnn-cu12-9.1.0.70 nvidia-cufft-cu12-11.2.1.3 nvidia-curand-cu12-10.3.5.147 nvidia-cusolver-cu12-11.6.1.9 nvidia-cusparse-cu12-12.3.1.170 nvidia-nvjitlink-cu12-12.4.127 ultralytics-8.3.70 ultralytics-thop-2.0.14\n"
          ]
        }
      ]
    },
    {
      "cell_type": "code",
      "source": [
        "from google.colab import drive\n",
        "drive.mount('/content/drive')"
      ],
      "metadata": {
        "colab": {
          "base_uri": "https://localhost:8080/"
        },
        "id": "auEy0LMWkTWv",
        "outputId": "f3489582-0381-467c-c666-f9a86c8bedd5"
      },
      "id": "auEy0LMWkTWv",
      "execution_count": null,
      "outputs": [
        {
          "output_type": "stream",
          "name": "stdout",
          "text": [
            "Drive already mounted at /content/drive; to attempt to forcibly remount, call drive.mount(\"/content/drive\", force_remount=True).\n"
          ]
        }
      ]
    },
    {
      "cell_type": "code",
      "source": [
        "import os\n",
        "dataset_path = \"/content/drive/MyDrive/Trial\"\n",
        "print(os.listdir(dataset_path))\n"
      ],
      "metadata": {
        "colab": {
          "base_uri": "https://localhost:8080/"
        },
        "id": "7r49saHDkW0v",
        "outputId": "43be9a71-9789-4e37-e367-9ff86530bea5"
      },
      "id": "7r49saHDkW0v",
      "execution_count": null,
      "outputs": [
        {
          "output_type": "stream",
          "name": "stdout",
          "text": [
            "['yolo11n.pt', 'yolov10n.pt', '.ipynb_checkpoints', 'tomato dataset', 'runs', 'data.yaml', 'Trial.ipynb']\n"
          ]
        }
      ]
    },
    {
      "cell_type": "code",
      "execution_count": null,
      "id": "42902869-dfac-4621-9930-7892eff80b19",
      "metadata": {
        "id": "42902869-dfac-4621-9930-7892eff80b19"
      },
      "outputs": [],
      "source": [
        "from ultralytics import YOLO"
      ]
    },
    {
      "cell_type": "code",
      "source": [
        "model = YOLO('yolo11n.pt')  # Load pre-trained YOLO model\n",
        "model.train(data=\"/content/drive/MyDrive/Trial/data.yaml\",task = 'detect', epochs=25)"
      ],
      "metadata": {
        "colab": {
          "base_uri": "https://localhost:8080/"
        },
        "id": "meLJPiBgl5Lq",
        "outputId": "c029ac98-4906-4038-e58d-465f0da2e8b6"
      },
      "id": "meLJPiBgl5Lq",
      "execution_count": null,
      "outputs": [
        {
          "output_type": "stream",
          "name": "stdout",
          "text": [
            "Ultralytics 8.3.70 🚀 Python-3.11.11 torch-2.5.1+cu124 CUDA:0 (Tesla T4, 15095MiB)\n",
            "\u001b[34m\u001b[1mengine/trainer: \u001b[0mtask=detect, mode=train, model=yolo11n.pt, data=/content/drive/MyDrive/Trial/data.yaml, epochs=25, time=None, patience=100, batch=16, imgsz=640, save=True, save_period=-1, cache=False, device=None, workers=8, project=None, name=train2, exist_ok=False, pretrained=True, optimizer=auto, verbose=True, seed=0, deterministic=True, single_cls=False, rect=False, cos_lr=False, close_mosaic=10, resume=False, amp=True, fraction=1.0, profile=False, freeze=None, multi_scale=False, overlap_mask=True, mask_ratio=4, dropout=0.0, val=True, split=val, save_json=False, save_hybrid=False, conf=None, iou=0.7, max_det=300, half=False, dnn=False, plots=True, source=None, vid_stride=1, stream_buffer=False, visualize=False, augment=False, agnostic_nms=False, classes=None, retina_masks=False, embed=None, show=False, save_frames=False, save_txt=False, save_conf=False, save_crop=False, show_labels=True, show_conf=True, show_boxes=True, line_width=None, format=torchscript, keras=False, optimize=False, int8=False, dynamic=False, simplify=True, opset=None, workspace=None, nms=False, lr0=0.01, lrf=0.01, momentum=0.937, weight_decay=0.0005, warmup_epochs=3.0, warmup_momentum=0.8, warmup_bias_lr=0.1, box=7.5, cls=0.5, dfl=1.5, pose=12.0, kobj=1.0, nbs=64, hsv_h=0.015, hsv_s=0.7, hsv_v=0.4, degrees=0.0, translate=0.1, scale=0.5, shear=0.0, perspective=0.0, flipud=0.0, fliplr=0.5, bgr=0.0, mosaic=1.0, mixup=0.0, copy_paste=0.0, copy_paste_mode=flip, auto_augment=randaugment, erasing=0.4, crop_fraction=1.0, cfg=None, tracker=botsort.yaml, save_dir=runs/detect/train2\n",
            "Overriding model.yaml nc=80 with nc=1\n",
            "\n",
            "                   from  n    params  module                                       arguments                     \n",
            "  0                  -1  1       464  ultralytics.nn.modules.conv.Conv             [3, 16, 3, 2]                 \n",
            "  1                  -1  1      4672  ultralytics.nn.modules.conv.Conv             [16, 32, 3, 2]                \n",
            "  2                  -1  1      6640  ultralytics.nn.modules.block.C3k2            [32, 64, 1, False, 0.25]      \n",
            "  3                  -1  1     36992  ultralytics.nn.modules.conv.Conv             [64, 64, 3, 2]                \n",
            "  4                  -1  1     26080  ultralytics.nn.modules.block.C3k2            [64, 128, 1, False, 0.25]     \n",
            "  5                  -1  1    147712  ultralytics.nn.modules.conv.Conv             [128, 128, 3, 2]              \n",
            "  6                  -1  1     87040  ultralytics.nn.modules.block.C3k2            [128, 128, 1, True]           \n",
            "  7                  -1  1    295424  ultralytics.nn.modules.conv.Conv             [128, 256, 3, 2]              \n",
            "  8                  -1  1    346112  ultralytics.nn.modules.block.C3k2            [256, 256, 1, True]           \n",
            "  9                  -1  1    164608  ultralytics.nn.modules.block.SPPF            [256, 256, 5]                 \n",
            " 10                  -1  1    249728  ultralytics.nn.modules.block.C2PSA           [256, 256, 1]                 \n",
            " 11                  -1  1         0  torch.nn.modules.upsampling.Upsample         [None, 2, 'nearest']          \n",
            " 12             [-1, 6]  1         0  ultralytics.nn.modules.conv.Concat           [1]                           \n",
            " 13                  -1  1    111296  ultralytics.nn.modules.block.C3k2            [384, 128, 1, False]          \n",
            " 14                  -1  1         0  torch.nn.modules.upsampling.Upsample         [None, 2, 'nearest']          \n",
            " 15             [-1, 4]  1         0  ultralytics.nn.modules.conv.Concat           [1]                           \n",
            " 16                  -1  1     32096  ultralytics.nn.modules.block.C3k2            [256, 64, 1, False]           \n",
            " 17                  -1  1     36992  ultralytics.nn.modules.conv.Conv             [64, 64, 3, 2]                \n",
            " 18            [-1, 13]  1         0  ultralytics.nn.modules.conv.Concat           [1]                           \n",
            " 19                  -1  1     86720  ultralytics.nn.modules.block.C3k2            [192, 128, 1, False]          \n",
            " 20                  -1  1    147712  ultralytics.nn.modules.conv.Conv             [128, 128, 3, 2]              \n",
            " 21            [-1, 10]  1         0  ultralytics.nn.modules.conv.Concat           [1]                           \n",
            " 22                  -1  1    378880  ultralytics.nn.modules.block.C3k2            [384, 256, 1, True]           \n",
            " 23        [16, 19, 22]  1    430867  ultralytics.nn.modules.head.Detect           [1, [64, 128, 256]]           \n",
            "YOLO11n summary: 319 layers, 2,590,035 parameters, 2,590,019 gradients, 6.4 GFLOPs\n",
            "\n",
            "Transferred 448/499 items from pretrained weights\n",
            "\u001b[34m\u001b[1mTensorBoard: \u001b[0mStart with 'tensorboard --logdir runs/detect/train2', view at http://localhost:6006/\n",
            "Freezing layer 'model.23.dfl.conv.weight'\n",
            "\u001b[34m\u001b[1mAMP: \u001b[0mrunning Automatic Mixed Precision (AMP) checks...\n",
            "\u001b[34m\u001b[1mAMP: \u001b[0mchecks passed ✅\n"
          ]
        },
        {
          "output_type": "stream",
          "name": "stderr",
          "text": [
            "\u001b[34m\u001b[1mtrain: \u001b[0mScanning /content/drive/MyDrive/Trial/tomato dataset/train/labels.cache... 327 images, 0 backgrounds, 0 corrupt: 100%|██████████| 327/327 [00:00<?, ?it/s]"
          ]
        },
        {
          "output_type": "stream",
          "name": "stdout",
          "text": [
            "\u001b[34m\u001b[1malbumentations: \u001b[0mBlur(p=0.01, blur_limit=(3, 7)), MedianBlur(p=0.01, blur_limit=(3, 7)), ToGray(p=0.01, num_output_channels=3, method='weighted_average'), CLAHE(p=0.01, clip_limit=(1.0, 4.0), tile_grid_size=(8, 8))\n"
          ]
        },
        {
          "output_type": "stream",
          "name": "stderr",
          "text": [
            "\n",
            "\u001b[34m\u001b[1mval: \u001b[0mScanning /content/drive/MyDrive/Trial/tomato dataset/valid/labels.cache... 27 images, 0 backgrounds, 0 corrupt: 100%|██████████| 27/27 [00:00<?, ?it/s]\n"
          ]
        },
        {
          "output_type": "stream",
          "name": "stdout",
          "text": [
            "Plotting labels to runs/detect/train2/labels.jpg... \n",
            "\u001b[34m\u001b[1moptimizer:\u001b[0m 'optimizer=auto' found, ignoring 'lr0=0.01' and 'momentum=0.937' and determining best 'optimizer', 'lr0' and 'momentum' automatically... \n",
            "\u001b[34m\u001b[1moptimizer:\u001b[0m AdamW(lr=0.002, momentum=0.9) with parameter groups 81 weight(decay=0.0), 88 weight(decay=0.0005), 87 bias(decay=0.0)\n",
            "\u001b[34m\u001b[1mTensorBoard: \u001b[0mmodel graph visualization added ✅\n",
            "Image sizes 640 train, 640 val\n",
            "Using 2 dataloader workers\n",
            "Logging results to \u001b[1mruns/detect/train2\u001b[0m\n",
            "Starting training for 25 epochs...\n",
            "\n",
            "      Epoch    GPU_mem   box_loss   cls_loss   dfl_loss  Instances       Size\n"
          ]
        },
        {
          "output_type": "stream",
          "name": "stderr",
          "text": [
            "       1/25       2.6G     0.9344      2.318       1.24         67        640: 100%|██████████| 21/21 [00:08<00:00,  2.51it/s]\n",
            "                 Class     Images  Instances      Box(P          R      mAP50  mAP50-95): 100%|██████████| 1/1 [00:00<00:00,  1.17it/s]"
          ]
        },
        {
          "output_type": "stream",
          "name": "stdout",
          "text": [
            "                   all         27        134     0.0164      0.993      0.778      0.556\n"
          ]
        },
        {
          "output_type": "stream",
          "name": "stderr",
          "text": [
            "\n"
          ]
        },
        {
          "output_type": "stream",
          "name": "stdout",
          "text": [
            "\n",
            "      Epoch    GPU_mem   box_loss   cls_loss   dfl_loss  Instances       Size\n"
          ]
        },
        {
          "output_type": "stream",
          "name": "stderr",
          "text": [
            "       2/25      2.42G     0.9415      1.379      1.223         20        640: 100%|██████████| 21/21 [00:09<00:00,  2.11it/s]\n",
            "                 Class     Images  Instances      Box(P          R      mAP50  mAP50-95): 100%|██████████| 1/1 [00:00<00:00,  2.30it/s]"
          ]
        },
        {
          "output_type": "stream",
          "name": "stdout",
          "text": [
            "                   all         27        134      0.847      0.537      0.729      0.494\n"
          ]
        },
        {
          "output_type": "stream",
          "name": "stderr",
          "text": [
            "\n"
          ]
        },
        {
          "output_type": "stream",
          "name": "stdout",
          "text": [
            "\n",
            "      Epoch    GPU_mem   box_loss   cls_loss   dfl_loss  Instances       Size\n"
          ]
        },
        {
          "output_type": "stream",
          "name": "stderr",
          "text": [
            "       3/25       2.5G      0.939      1.158      1.218         64        640: 100%|██████████| 21/21 [00:06<00:00,  3.27it/s]\n",
            "                 Class     Images  Instances      Box(P          R      mAP50  mAP50-95): 100%|██████████| 1/1 [00:00<00:00,  1.95it/s]"
          ]
        },
        {
          "output_type": "stream",
          "name": "stdout",
          "text": [
            "                   all         27        134      0.715      0.673      0.767      0.493\n"
          ]
        },
        {
          "output_type": "stream",
          "name": "stderr",
          "text": [
            "\n"
          ]
        },
        {
          "output_type": "stream",
          "name": "stdout",
          "text": [
            "\n",
            "      Epoch    GPU_mem   box_loss   cls_loss   dfl_loss  Instances       Size\n"
          ]
        },
        {
          "output_type": "stream",
          "name": "stderr",
          "text": [
            "       4/25      2.49G     0.9729      1.084      1.196         45        640: 100%|██████████| 21/21 [00:11<00:00,  1.81it/s]\n",
            "                 Class     Images  Instances      Box(P          R      mAP50  mAP50-95): 100%|██████████| 1/1 [00:00<00:00,  2.23it/s]"
          ]
        },
        {
          "output_type": "stream",
          "name": "stdout",
          "text": [
            "                   all         27        134       0.73      0.705      0.749      0.442\n"
          ]
        },
        {
          "output_type": "stream",
          "name": "stderr",
          "text": [
            "\n"
          ]
        },
        {
          "output_type": "stream",
          "name": "stdout",
          "text": [
            "\n",
            "      Epoch    GPU_mem   box_loss   cls_loss   dfl_loss  Instances       Size\n"
          ]
        },
        {
          "output_type": "stream",
          "name": "stderr",
          "text": [
            "       5/25      2.46G     0.9433      1.051      1.211         29        640: 100%|██████████| 21/21 [00:06<00:00,  3.34it/s]\n",
            "                 Class     Images  Instances      Box(P          R      mAP50  mAP50-95): 100%|██████████| 1/1 [00:00<00:00,  1.84it/s]"
          ]
        },
        {
          "output_type": "stream",
          "name": "stdout",
          "text": [
            "                   all         27        134      0.755      0.806      0.868      0.586\n"
          ]
        },
        {
          "output_type": "stream",
          "name": "stderr",
          "text": [
            "\n"
          ]
        },
        {
          "output_type": "stream",
          "name": "stdout",
          "text": [
            "\n",
            "      Epoch    GPU_mem   box_loss   cls_loss   dfl_loss  Instances       Size\n"
          ]
        },
        {
          "output_type": "stream",
          "name": "stderr",
          "text": [
            "       6/25      2.52G     0.9731     0.9838      1.202         44        640: 100%|██████████| 21/21 [00:11<00:00,  1.83it/s]\n",
            "                 Class     Images  Instances      Box(P          R      mAP50  mAP50-95): 100%|██████████| 1/1 [00:00<00:00,  1.50it/s]"
          ]
        },
        {
          "output_type": "stream",
          "name": "stdout",
          "text": [
            "                   all         27        134      0.797      0.673      0.758      0.513\n"
          ]
        },
        {
          "output_type": "stream",
          "name": "stderr",
          "text": [
            "\n"
          ]
        },
        {
          "output_type": "stream",
          "name": "stdout",
          "text": [
            "\n",
            "      Epoch    GPU_mem   box_loss   cls_loss   dfl_loss  Instances       Size\n"
          ]
        },
        {
          "output_type": "stream",
          "name": "stderr",
          "text": [
            "       7/25      2.47G     0.9393     0.9422      1.198         57        640: 100%|██████████| 21/21 [00:06<00:00,  3.14it/s]\n",
            "                 Class     Images  Instances      Box(P          R      mAP50  mAP50-95): 100%|██████████| 1/1 [00:00<00:00,  2.02it/s]"
          ]
        },
        {
          "output_type": "stream",
          "name": "stdout",
          "text": [
            "                   all         27        134      0.651      0.612      0.666      0.386\n"
          ]
        },
        {
          "output_type": "stream",
          "name": "stderr",
          "text": [
            "\n"
          ]
        },
        {
          "output_type": "stream",
          "name": "stdout",
          "text": [
            "\n",
            "      Epoch    GPU_mem   box_loss   cls_loss   dfl_loss  Instances       Size\n"
          ]
        },
        {
          "output_type": "stream",
          "name": "stderr",
          "text": [
            "       8/25      2.49G     0.9079     0.9116      1.182         68        640: 100%|██████████| 21/21 [00:10<00:00,  1.96it/s]\n",
            "                 Class     Images  Instances      Box(P          R      mAP50  mAP50-95): 100%|██████████| 1/1 [00:00<00:00,  1.90it/s]"
          ]
        },
        {
          "output_type": "stream",
          "name": "stdout",
          "text": [
            "                   all         27        134      0.835      0.867      0.895      0.612\n"
          ]
        },
        {
          "output_type": "stream",
          "name": "stderr",
          "text": [
            "\n"
          ]
        },
        {
          "output_type": "stream",
          "name": "stdout",
          "text": [
            "\n",
            "      Epoch    GPU_mem   box_loss   cls_loss   dfl_loss  Instances       Size\n"
          ]
        },
        {
          "output_type": "stream",
          "name": "stderr",
          "text": [
            "       9/25      2.45G      0.888     0.8841      1.173         41        640: 100%|██████████| 21/21 [00:06<00:00,  3.22it/s]\n",
            "                 Class     Images  Instances      Box(P          R      mAP50  mAP50-95): 100%|██████████| 1/1 [00:00<00:00,  2.37it/s]"
          ]
        },
        {
          "output_type": "stream",
          "name": "stdout",
          "text": [
            "                   all         27        134      0.822      0.619      0.696      0.449\n"
          ]
        },
        {
          "output_type": "stream",
          "name": "stderr",
          "text": [
            "\n"
          ]
        },
        {
          "output_type": "stream",
          "name": "stdout",
          "text": [
            "\n",
            "      Epoch    GPU_mem   box_loss   cls_loss   dfl_loss  Instances       Size\n"
          ]
        },
        {
          "output_type": "stream",
          "name": "stderr",
          "text": [
            "      10/25      2.42G     0.8675     0.8266      1.163         46        640: 100%|██████████| 21/21 [00:10<00:00,  1.93it/s]\n",
            "                 Class     Images  Instances      Box(P          R      mAP50  mAP50-95): 100%|██████████| 1/1 [00:00<00:00,  1.43it/s]"
          ]
        },
        {
          "output_type": "stream",
          "name": "stdout",
          "text": [
            "                   all         27        134       0.81      0.769      0.867      0.605\n"
          ]
        },
        {
          "output_type": "stream",
          "name": "stderr",
          "text": [
            "\n"
          ]
        },
        {
          "output_type": "stream",
          "name": "stdout",
          "text": [
            "\n",
            "      Epoch    GPU_mem   box_loss   cls_loss   dfl_loss  Instances       Size\n"
          ]
        },
        {
          "output_type": "stream",
          "name": "stderr",
          "text": [
            "      11/25      2.47G     0.8576     0.7902       1.15         59        640: 100%|██████████| 21/21 [00:06<00:00,  3.24it/s]\n",
            "                 Class     Images  Instances      Box(P          R      mAP50  mAP50-95): 100%|██████████| 1/1 [00:00<00:00,  1.92it/s]"
          ]
        },
        {
          "output_type": "stream",
          "name": "stdout",
          "text": [
            "                   all         27        134       0.81      0.791      0.862      0.642\n"
          ]
        },
        {
          "output_type": "stream",
          "name": "stderr",
          "text": [
            "\n"
          ]
        },
        {
          "output_type": "stream",
          "name": "stdout",
          "text": [
            "\n",
            "      Epoch    GPU_mem   box_loss   cls_loss   dfl_loss  Instances       Size\n"
          ]
        },
        {
          "output_type": "stream",
          "name": "stderr",
          "text": [
            "      12/25      2.53G     0.8588     0.7682      1.141         46        640: 100%|██████████| 21/21 [00:10<00:00,  1.99it/s]\n",
            "                 Class     Images  Instances      Box(P          R      mAP50  mAP50-95): 100%|██████████| 1/1 [00:00<00:00,  1.02it/s]"
          ]
        },
        {
          "output_type": "stream",
          "name": "stdout",
          "text": [
            "                   all         27        134      0.841      0.821      0.897      0.659\n"
          ]
        },
        {
          "output_type": "stream",
          "name": "stderr",
          "text": [
            "\n"
          ]
        },
        {
          "output_type": "stream",
          "name": "stdout",
          "text": [
            "\n",
            "      Epoch    GPU_mem   box_loss   cls_loss   dfl_loss  Instances       Size\n"
          ]
        },
        {
          "output_type": "stream",
          "name": "stderr",
          "text": [
            "      13/25      2.48G     0.8538     0.7643      1.129         23        640: 100%|██████████| 21/21 [00:06<00:00,  3.25it/s]\n",
            "                 Class     Images  Instances      Box(P          R      mAP50  mAP50-95): 100%|██████████| 1/1 [00:00<00:00,  2.65it/s]"
          ]
        },
        {
          "output_type": "stream",
          "name": "stdout",
          "text": [
            "                   all         27        134      0.901      0.819      0.912       0.67\n"
          ]
        },
        {
          "output_type": "stream",
          "name": "stderr",
          "text": [
            "\n"
          ]
        },
        {
          "output_type": "stream",
          "name": "stdout",
          "text": [
            "\n",
            "      Epoch    GPU_mem   box_loss   cls_loss   dfl_loss  Instances       Size\n"
          ]
        },
        {
          "output_type": "stream",
          "name": "stderr",
          "text": [
            "      14/25      2.56G     0.8271     0.7024      1.125         37        640: 100%|██████████| 21/21 [00:09<00:00,  2.14it/s]\n",
            "                 Class     Images  Instances      Box(P          R      mAP50  mAP50-95): 100%|██████████| 1/1 [00:00<00:00,  1.29it/s]"
          ]
        },
        {
          "output_type": "stream",
          "name": "stdout",
          "text": [
            "                   all         27        134      0.879      0.873      0.919      0.698\n"
          ]
        },
        {
          "output_type": "stream",
          "name": "stderr",
          "text": [
            "\n"
          ]
        },
        {
          "output_type": "stream",
          "name": "stdout",
          "text": [
            "\n",
            "      Epoch    GPU_mem   box_loss   cls_loss   dfl_loss  Instances       Size\n"
          ]
        },
        {
          "output_type": "stream",
          "name": "stderr",
          "text": [
            "      15/25      2.54G     0.8073     0.7064      1.116         34        640: 100%|██████████| 21/21 [00:06<00:00,  3.18it/s]\n",
            "                 Class     Images  Instances      Box(P          R      mAP50  mAP50-95): 100%|██████████| 1/1 [00:00<00:00,  1.81it/s]"
          ]
        },
        {
          "output_type": "stream",
          "name": "stdout",
          "text": [
            "                   all         27        134      0.815      0.889      0.905       0.66\n"
          ]
        },
        {
          "output_type": "stream",
          "name": "stderr",
          "text": [
            "\n"
          ]
        },
        {
          "output_type": "stream",
          "name": "stdout",
          "text": [
            "Closing dataloader mosaic\n",
            "\u001b[34m\u001b[1malbumentations: \u001b[0mBlur(p=0.01, blur_limit=(3, 7)), MedianBlur(p=0.01, blur_limit=(3, 7)), ToGray(p=0.01, num_output_channels=3, method='weighted_average'), CLAHE(p=0.01, clip_limit=(1.0, 4.0), tile_grid_size=(8, 8))\n",
            "\n",
            "      Epoch    GPU_mem   box_loss   cls_loss   dfl_loss  Instances       Size\n"
          ]
        },
        {
          "output_type": "stream",
          "name": "stderr",
          "text": [
            "      16/25      2.47G     0.7509     0.7177       1.07         53        640: 100%|██████████| 21/21 [00:12<00:00,  1.63it/s]\n",
            "                 Class     Images  Instances      Box(P          R      mAP50  mAP50-95): 100%|██████████| 1/1 [00:00<00:00,  1.03it/s]"
          ]
        },
        {
          "output_type": "stream",
          "name": "stdout",
          "text": [
            "                   all         27        134      0.824      0.944      0.918      0.675\n"
          ]
        },
        {
          "output_type": "stream",
          "name": "stderr",
          "text": [
            "\n"
          ]
        },
        {
          "output_type": "stream",
          "name": "stdout",
          "text": [
            "\n",
            "      Epoch    GPU_mem   box_loss   cls_loss   dfl_loss  Instances       Size\n"
          ]
        },
        {
          "output_type": "stream",
          "name": "stderr",
          "text": [
            "      17/25       2.4G       0.72     0.6899      1.027         17        640: 100%|██████████| 21/21 [00:06<00:00,  3.44it/s]\n",
            "                 Class     Images  Instances      Box(P          R      mAP50  mAP50-95): 100%|██████████| 1/1 [00:00<00:00,  1.88it/s]"
          ]
        },
        {
          "output_type": "stream",
          "name": "stdout",
          "text": [
            "                   all         27        134      0.825      0.933      0.918      0.699\n"
          ]
        },
        {
          "output_type": "stream",
          "name": "stderr",
          "text": [
            "\n"
          ]
        },
        {
          "output_type": "stream",
          "name": "stdout",
          "text": [
            "\n",
            "      Epoch    GPU_mem   box_loss   cls_loss   dfl_loss  Instances       Size\n"
          ]
        },
        {
          "output_type": "stream",
          "name": "stderr",
          "text": [
            "      18/25      2.46G      0.714      0.639      1.026         17        640: 100%|██████████| 21/21 [00:09<00:00,  2.17it/s]\n",
            "                 Class     Images  Instances      Box(P          R      mAP50  mAP50-95): 100%|██████████| 1/1 [00:00<00:00,  1.05it/s]"
          ]
        },
        {
          "output_type": "stream",
          "name": "stdout",
          "text": [
            "                   all         27        134      0.862      0.886      0.926      0.697\n"
          ]
        },
        {
          "output_type": "stream",
          "name": "stderr",
          "text": [
            "\n"
          ]
        },
        {
          "output_type": "stream",
          "name": "stdout",
          "text": [
            "\n",
            "      Epoch    GPU_mem   box_loss   cls_loss   dfl_loss  Instances       Size\n"
          ]
        },
        {
          "output_type": "stream",
          "name": "stderr",
          "text": [
            "      19/25      2.47G     0.7036     0.6292      1.029         37        640: 100%|██████████| 21/21 [00:06<00:00,  3.08it/s]\n",
            "                 Class     Images  Instances      Box(P          R      mAP50  mAP50-95): 100%|██████████| 1/1 [00:00<00:00,  2.07it/s]"
          ]
        },
        {
          "output_type": "stream",
          "name": "stdout",
          "text": [
            "                   all         27        134      0.909      0.893      0.935      0.711\n"
          ]
        },
        {
          "output_type": "stream",
          "name": "stderr",
          "text": [
            "\n"
          ]
        },
        {
          "output_type": "stream",
          "name": "stdout",
          "text": [
            "\n",
            "      Epoch    GPU_mem   box_loss   cls_loss   dfl_loss  Instances       Size\n"
          ]
        },
        {
          "output_type": "stream",
          "name": "stderr",
          "text": [
            "      20/25      2.54G     0.6871     0.6124      1.031         38        640: 100%|██████████| 21/21 [00:07<00:00,  2.64it/s]\n",
            "                 Class     Images  Instances      Box(P          R      mAP50  mAP50-95): 100%|██████████| 1/1 [00:00<00:00,  1.41it/s]"
          ]
        },
        {
          "output_type": "stream",
          "name": "stdout",
          "text": [
            "                   all         27        134      0.908      0.889      0.946      0.703\n"
          ]
        },
        {
          "output_type": "stream",
          "name": "stderr",
          "text": [
            "\n"
          ]
        },
        {
          "output_type": "stream",
          "name": "stdout",
          "text": [
            "\n",
            "      Epoch    GPU_mem   box_loss   cls_loss   dfl_loss  Instances       Size\n"
          ]
        },
        {
          "output_type": "stream",
          "name": "stderr",
          "text": [
            "      21/25      2.46G      0.692     0.6122      1.023         40        640: 100%|██████████| 21/21 [00:08<00:00,  2.55it/s]\n",
            "                 Class     Images  Instances      Box(P          R      mAP50  mAP50-95): 100%|██████████| 1/1 [00:00<00:00,  1.97it/s]"
          ]
        },
        {
          "output_type": "stream",
          "name": "stdout",
          "text": [
            "                   all         27        134      0.879      0.896      0.929      0.718\n"
          ]
        },
        {
          "output_type": "stream",
          "name": "stderr",
          "text": [
            "\n"
          ]
        },
        {
          "output_type": "stream",
          "name": "stdout",
          "text": [
            "\n",
            "      Epoch    GPU_mem   box_loss   cls_loss   dfl_loss  Instances       Size\n"
          ]
        },
        {
          "output_type": "stream",
          "name": "stderr",
          "text": [
            "      22/25      2.55G     0.6643     0.5605      1.011         17        640: 100%|██████████| 21/21 [00:07<00:00,  2.97it/s]\n",
            "                 Class     Images  Instances      Box(P          R      mAP50  mAP50-95): 100%|██████████| 1/1 [00:00<00:00,  1.44it/s]"
          ]
        },
        {
          "output_type": "stream",
          "name": "stdout",
          "text": [
            "                   all         27        134      0.887      0.878      0.932       0.73\n"
          ]
        },
        {
          "output_type": "stream",
          "name": "stderr",
          "text": [
            "\n"
          ]
        },
        {
          "output_type": "stream",
          "name": "stdout",
          "text": [
            "\n",
            "      Epoch    GPU_mem   box_loss   cls_loss   dfl_loss  Instances       Size\n"
          ]
        },
        {
          "output_type": "stream",
          "name": "stderr",
          "text": [
            "      23/25      2.49G      0.628     0.5352     0.9946         18        640: 100%|██████████| 21/21 [00:09<00:00,  2.23it/s]\n",
            "                 Class     Images  Instances      Box(P          R      mAP50  mAP50-95): 100%|██████████| 1/1 [00:00<00:00,  2.82it/s]"
          ]
        },
        {
          "output_type": "stream",
          "name": "stdout",
          "text": [
            "                   all         27        134      0.904      0.911      0.936      0.737\n"
          ]
        },
        {
          "output_type": "stream",
          "name": "stderr",
          "text": [
            "\n"
          ]
        },
        {
          "output_type": "stream",
          "name": "stdout",
          "text": [
            "\n",
            "      Epoch    GPU_mem   box_loss   cls_loss   dfl_loss  Instances       Size\n"
          ]
        },
        {
          "output_type": "stream",
          "name": "stderr",
          "text": [
            "      24/25      2.53G     0.6172     0.5182     0.9854         12        640: 100%|██████████| 21/21 [00:06<00:00,  3.33it/s]\n",
            "                 Class     Images  Instances      Box(P          R      mAP50  mAP50-95): 100%|██████████| 1/1 [00:00<00:00,  1.68it/s]"
          ]
        },
        {
          "output_type": "stream",
          "name": "stdout",
          "text": [
            "                   all         27        134      0.909      0.898      0.941      0.748\n"
          ]
        },
        {
          "output_type": "stream",
          "name": "stderr",
          "text": [
            "\n"
          ]
        },
        {
          "output_type": "stream",
          "name": "stdout",
          "text": [
            "\n",
            "      Epoch    GPU_mem   box_loss   cls_loss   dfl_loss  Instances       Size\n"
          ]
        },
        {
          "output_type": "stream",
          "name": "stderr",
          "text": [
            "      25/25       2.4G     0.6188     0.5062     0.9787         15        640: 100%|██████████| 21/21 [00:10<00:00,  2.08it/s]\n",
            "                 Class     Images  Instances      Box(P          R      mAP50  mAP50-95): 100%|██████████| 1/1 [00:00<00:00,  2.08it/s]"
          ]
        },
        {
          "output_type": "stream",
          "name": "stdout",
          "text": [
            "                   all         27        134      0.905      0.903      0.945      0.749\n"
          ]
        },
        {
          "output_type": "stream",
          "name": "stderr",
          "text": [
            "\n"
          ]
        },
        {
          "output_type": "stream",
          "name": "stdout",
          "text": [
            "\n",
            "25 epochs completed in 0.074 hours.\n",
            "Optimizer stripped from runs/detect/train2/weights/last.pt, 5.5MB\n",
            "Optimizer stripped from runs/detect/train2/weights/best.pt, 5.5MB\n",
            "\n",
            "Validating runs/detect/train2/weights/best.pt...\n",
            "Ultralytics 8.3.70 🚀 Python-3.11.11 torch-2.5.1+cu124 CUDA:0 (Tesla T4, 15095MiB)\n",
            "YOLO11n summary (fused): 238 layers, 2,582,347 parameters, 0 gradients, 6.3 GFLOPs\n"
          ]
        },
        {
          "output_type": "stream",
          "name": "stderr",
          "text": [
            "                 Class     Images  Instances      Box(P          R      mAP50  mAP50-95): 100%|██████████| 1/1 [00:00<00:00,  3.36it/s]\n"
          ]
        },
        {
          "output_type": "stream",
          "name": "stdout",
          "text": [
            "                   all         27        134      0.906      0.903      0.945      0.749\n",
            "Speed: 0.2ms preprocess, 2.5ms inference, 0.0ms loss, 1.5ms postprocess per image\n",
            "Results saved to \u001b[1mruns/detect/train2\u001b[0m\n"
          ]
        },
        {
          "output_type": "execute_result",
          "data": {
            "text/plain": [
              "ultralytics.utils.metrics.DetMetrics object with attributes:\n",
              "\n",
              "ap_class_index: array([0])\n",
              "box: ultralytics.utils.metrics.Metric object\n",
              "confusion_matrix: <ultralytics.utils.metrics.ConfusionMatrix object at 0x7d4512c4f5d0>\n",
              "curves: ['Precision-Recall(B)', 'F1-Confidence(B)', 'Precision-Confidence(B)', 'Recall-Confidence(B)']\n",
              "curves_results: [[array([          0,    0.001001,    0.002002,    0.003003,    0.004004,    0.005005,    0.006006,    0.007007,    0.008008,    0.009009,     0.01001,    0.011011,    0.012012,    0.013013,    0.014014,    0.015015,    0.016016,    0.017017,    0.018018,    0.019019,     0.02002,    0.021021,    0.022022,    0.023023,\n",
              "          0.024024,    0.025025,    0.026026,    0.027027,    0.028028,    0.029029,     0.03003,    0.031031,    0.032032,    0.033033,    0.034034,    0.035035,    0.036036,    0.037037,    0.038038,    0.039039,     0.04004,    0.041041,    0.042042,    0.043043,    0.044044,    0.045045,    0.046046,    0.047047,\n",
              "          0.048048,    0.049049,     0.05005,    0.051051,    0.052052,    0.053053,    0.054054,    0.055055,    0.056056,    0.057057,    0.058058,    0.059059,     0.06006,    0.061061,    0.062062,    0.063063,    0.064064,    0.065065,    0.066066,    0.067067,    0.068068,    0.069069,     0.07007,    0.071071,\n",
              "          0.072072,    0.073073,    0.074074,    0.075075,    0.076076,    0.077077,    0.078078,    0.079079,     0.08008,    0.081081,    0.082082,    0.083083,    0.084084,    0.085085,    0.086086,    0.087087,    0.088088,    0.089089,     0.09009,    0.091091,    0.092092,    0.093093,    0.094094,    0.095095,\n",
              "          0.096096,    0.097097,    0.098098,    0.099099,      0.1001,      0.1011,      0.1021,      0.1031,      0.1041,     0.10511,     0.10611,     0.10711,     0.10811,     0.10911,     0.11011,     0.11111,     0.11211,     0.11311,     0.11411,     0.11512,     0.11612,     0.11712,     0.11812,     0.11912,\n",
              "           0.12012,     0.12112,     0.12212,     0.12312,     0.12412,     0.12513,     0.12613,     0.12713,     0.12813,     0.12913,     0.13013,     0.13113,     0.13213,     0.13313,     0.13413,     0.13514,     0.13614,     0.13714,     0.13814,     0.13914,     0.14014,     0.14114,     0.14214,     0.14314,\n",
              "           0.14414,     0.14515,     0.14615,     0.14715,     0.14815,     0.14915,     0.15015,     0.15115,     0.15215,     0.15315,     0.15415,     0.15516,     0.15616,     0.15716,     0.15816,     0.15916,     0.16016,     0.16116,     0.16216,     0.16316,     0.16416,     0.16517,     0.16617,     0.16717,\n",
              "           0.16817,     0.16917,     0.17017,     0.17117,     0.17217,     0.17317,     0.17417,     0.17518,     0.17618,     0.17718,     0.17818,     0.17918,     0.18018,     0.18118,     0.18218,     0.18318,     0.18418,     0.18519,     0.18619,     0.18719,     0.18819,     0.18919,     0.19019,     0.19119,\n",
              "           0.19219,     0.19319,     0.19419,      0.1952,      0.1962,      0.1972,      0.1982,      0.1992,      0.2002,      0.2012,      0.2022,      0.2032,      0.2042,     0.20521,     0.20621,     0.20721,     0.20821,     0.20921,     0.21021,     0.21121,     0.21221,     0.21321,     0.21421,     0.21522,\n",
              "           0.21622,     0.21722,     0.21822,     0.21922,     0.22022,     0.22122,     0.22222,     0.22322,     0.22422,     0.22523,     0.22623,     0.22723,     0.22823,     0.22923,     0.23023,     0.23123,     0.23223,     0.23323,     0.23423,     0.23524,     0.23624,     0.23724,     0.23824,     0.23924,\n",
              "           0.24024,     0.24124,     0.24224,     0.24324,     0.24424,     0.24525,     0.24625,     0.24725,     0.24825,     0.24925,     0.25025,     0.25125,     0.25225,     0.25325,     0.25425,     0.25526,     0.25626,     0.25726,     0.25826,     0.25926,     0.26026,     0.26126,     0.26226,     0.26326,\n",
              "           0.26426,     0.26527,     0.26627,     0.26727,     0.26827,     0.26927,     0.27027,     0.27127,     0.27227,     0.27327,     0.27427,     0.27528,     0.27628,     0.27728,     0.27828,     0.27928,     0.28028,     0.28128,     0.28228,     0.28328,     0.28428,     0.28529,     0.28629,     0.28729,\n",
              "           0.28829,     0.28929,     0.29029,     0.29129,     0.29229,     0.29329,     0.29429,      0.2953,      0.2963,      0.2973,      0.2983,      0.2993,      0.3003,      0.3013,      0.3023,      0.3033,      0.3043,     0.30531,     0.30631,     0.30731,     0.30831,     0.30931,     0.31031,     0.31131,\n",
              "           0.31231,     0.31331,     0.31431,     0.31532,     0.31632,     0.31732,     0.31832,     0.31932,     0.32032,     0.32132,     0.32232,     0.32332,     0.32432,     0.32533,     0.32633,     0.32733,     0.32833,     0.32933,     0.33033,     0.33133,     0.33233,     0.33333,     0.33433,     0.33534,\n",
              "           0.33634,     0.33734,     0.33834,     0.33934,     0.34034,     0.34134,     0.34234,     0.34334,     0.34434,     0.34535,     0.34635,     0.34735,     0.34835,     0.34935,     0.35035,     0.35135,     0.35235,     0.35335,     0.35435,     0.35536,     0.35636,     0.35736,     0.35836,     0.35936,\n",
              "           0.36036,     0.36136,     0.36236,     0.36336,     0.36436,     0.36537,     0.36637,     0.36737,     0.36837,     0.36937,     0.37037,     0.37137,     0.37237,     0.37337,     0.37437,     0.37538,     0.37638,     0.37738,     0.37838,     0.37938,     0.38038,     0.38138,     0.38238,     0.38338,\n",
              "           0.38438,     0.38539,     0.38639,     0.38739,     0.38839,     0.38939,     0.39039,     0.39139,     0.39239,     0.39339,     0.39439,      0.3954,      0.3964,      0.3974,      0.3984,      0.3994,      0.4004,      0.4014,      0.4024,      0.4034,      0.4044,     0.40541,     0.40641,     0.40741,\n",
              "           0.40841,     0.40941,     0.41041,     0.41141,     0.41241,     0.41341,     0.41441,     0.41542,     0.41642,     0.41742,     0.41842,     0.41942,     0.42042,     0.42142,     0.42242,     0.42342,     0.42442,     0.42543,     0.42643,     0.42743,     0.42843,     0.42943,     0.43043,     0.43143,\n",
              "           0.43243,     0.43343,     0.43443,     0.43544,     0.43644,     0.43744,     0.43844,     0.43944,     0.44044,     0.44144,     0.44244,     0.44344,     0.44444,     0.44545,     0.44645,     0.44745,     0.44845,     0.44945,     0.45045,     0.45145,     0.45245,     0.45345,     0.45445,     0.45546,\n",
              "           0.45646,     0.45746,     0.45846,     0.45946,     0.46046,     0.46146,     0.46246,     0.46346,     0.46446,     0.46547,     0.46647,     0.46747,     0.46847,     0.46947,     0.47047,     0.47147,     0.47247,     0.47347,     0.47447,     0.47548,     0.47648,     0.47748,     0.47848,     0.47948,\n",
              "           0.48048,     0.48148,     0.48248,     0.48348,     0.48448,     0.48549,     0.48649,     0.48749,     0.48849,     0.48949,     0.49049,     0.49149,     0.49249,     0.49349,     0.49449,      0.4955,      0.4965,      0.4975,      0.4985,      0.4995,      0.5005,      0.5015,      0.5025,      0.5035,\n",
              "            0.5045,     0.50551,     0.50651,     0.50751,     0.50851,     0.50951,     0.51051,     0.51151,     0.51251,     0.51351,     0.51451,     0.51552,     0.51652,     0.51752,     0.51852,     0.51952,     0.52052,     0.52152,     0.52252,     0.52352,     0.52452,     0.52553,     0.52653,     0.52753,\n",
              "           0.52853,     0.52953,     0.53053,     0.53153,     0.53253,     0.53353,     0.53453,     0.53554,     0.53654,     0.53754,     0.53854,     0.53954,     0.54054,     0.54154,     0.54254,     0.54354,     0.54454,     0.54555,     0.54655,     0.54755,     0.54855,     0.54955,     0.55055,     0.55155,\n",
              "           0.55255,     0.55355,     0.55455,     0.55556,     0.55656,     0.55756,     0.55856,     0.55956,     0.56056,     0.56156,     0.56256,     0.56356,     0.56456,     0.56557,     0.56657,     0.56757,     0.56857,     0.56957,     0.57057,     0.57157,     0.57257,     0.57357,     0.57457,     0.57558,\n",
              "           0.57658,     0.57758,     0.57858,     0.57958,     0.58058,     0.58158,     0.58258,     0.58358,     0.58458,     0.58559,     0.58659,     0.58759,     0.58859,     0.58959,     0.59059,     0.59159,     0.59259,     0.59359,     0.59459,      0.5956,      0.5966,      0.5976,      0.5986,      0.5996,\n",
              "            0.6006,      0.6016,      0.6026,      0.6036,      0.6046,     0.60561,     0.60661,     0.60761,     0.60861,     0.60961,     0.61061,     0.61161,     0.61261,     0.61361,     0.61461,     0.61562,     0.61662,     0.61762,     0.61862,     0.61962,     0.62062,     0.62162,     0.62262,     0.62362,\n",
              "           0.62462,     0.62563,     0.62663,     0.62763,     0.62863,     0.62963,     0.63063,     0.63163,     0.63263,     0.63363,     0.63463,     0.63564,     0.63664,     0.63764,     0.63864,     0.63964,     0.64064,     0.64164,     0.64264,     0.64364,     0.64464,     0.64565,     0.64665,     0.64765,\n",
              "           0.64865,     0.64965,     0.65065,     0.65165,     0.65265,     0.65365,     0.65465,     0.65566,     0.65666,     0.65766,     0.65866,     0.65966,     0.66066,     0.66166,     0.66266,     0.66366,     0.66466,     0.66567,     0.66667,     0.66767,     0.66867,     0.66967,     0.67067,     0.67167,\n",
              "           0.67267,     0.67367,     0.67467,     0.67568,     0.67668,     0.67768,     0.67868,     0.67968,     0.68068,     0.68168,     0.68268,     0.68368,     0.68468,     0.68569,     0.68669,     0.68769,     0.68869,     0.68969,     0.69069,     0.69169,     0.69269,     0.69369,     0.69469,      0.6957,\n",
              "            0.6967,      0.6977,      0.6987,      0.6997,      0.7007,      0.7017,      0.7027,      0.7037,      0.7047,     0.70571,     0.70671,     0.70771,     0.70871,     0.70971,     0.71071,     0.71171,     0.71271,     0.71371,     0.71471,     0.71572,     0.71672,     0.71772,     0.71872,     0.71972,\n",
              "           0.72072,     0.72172,     0.72272,     0.72372,     0.72472,     0.72573,     0.72673,     0.72773,     0.72873,     0.72973,     0.73073,     0.73173,     0.73273,     0.73373,     0.73473,     0.73574,     0.73674,     0.73774,     0.73874,     0.73974,     0.74074,     0.74174,     0.74274,     0.74374,\n",
              "           0.74474,     0.74575,     0.74675,     0.74775,     0.74875,     0.74975,     0.75075,     0.75175,     0.75275,     0.75375,     0.75475,     0.75576,     0.75676,     0.75776,     0.75876,     0.75976,     0.76076,     0.76176,     0.76276,     0.76376,     0.76476,     0.76577,     0.76677,     0.76777,\n",
              "           0.76877,     0.76977,     0.77077,     0.77177,     0.77277,     0.77377,     0.77477,     0.77578,     0.77678,     0.77778,     0.77878,     0.77978,     0.78078,     0.78178,     0.78278,     0.78378,     0.78478,     0.78579,     0.78679,     0.78779,     0.78879,     0.78979,     0.79079,     0.79179,\n",
              "           0.79279,     0.79379,     0.79479,      0.7958,      0.7968,      0.7978,      0.7988,      0.7998,      0.8008,      0.8018,      0.8028,      0.8038,      0.8048,     0.80581,     0.80681,     0.80781,     0.80881,     0.80981,     0.81081,     0.81181,     0.81281,     0.81381,     0.81481,     0.81582,\n",
              "           0.81682,     0.81782,     0.81882,     0.81982,     0.82082,     0.82182,     0.82282,     0.82382,     0.82482,     0.82583,     0.82683,     0.82783,     0.82883,     0.82983,     0.83083,     0.83183,     0.83283,     0.83383,     0.83483,     0.83584,     0.83684,     0.83784,     0.83884,     0.83984,\n",
              "           0.84084,     0.84184,     0.84284,     0.84384,     0.84484,     0.84585,     0.84685,     0.84785,     0.84885,     0.84985,     0.85085,     0.85185,     0.85285,     0.85385,     0.85485,     0.85586,     0.85686,     0.85786,     0.85886,     0.85986,     0.86086,     0.86186,     0.86286,     0.86386,\n",
              "           0.86486,     0.86587,     0.86687,     0.86787,     0.86887,     0.86987,     0.87087,     0.87187,     0.87287,     0.87387,     0.87487,     0.87588,     0.87688,     0.87788,     0.87888,     0.87988,     0.88088,     0.88188,     0.88288,     0.88388,     0.88488,     0.88589,     0.88689,     0.88789,\n",
              "           0.88889,     0.88989,     0.89089,     0.89189,     0.89289,     0.89389,     0.89489,      0.8959,      0.8969,      0.8979,      0.8989,      0.8999,      0.9009,      0.9019,      0.9029,      0.9039,      0.9049,     0.90591,     0.90691,     0.90791,     0.90891,     0.90991,     0.91091,     0.91191,\n",
              "           0.91291,     0.91391,     0.91491,     0.91592,     0.91692,     0.91792,     0.91892,     0.91992,     0.92092,     0.92192,     0.92292,     0.92392,     0.92492,     0.92593,     0.92693,     0.92793,     0.92893,     0.92993,     0.93093,     0.93193,     0.93293,     0.93393,     0.93493,     0.93594,\n",
              "           0.93694,     0.93794,     0.93894,     0.93994,     0.94094,     0.94194,     0.94294,     0.94394,     0.94494,     0.94595,     0.94695,     0.94795,     0.94895,     0.94995,     0.95095,     0.95195,     0.95295,     0.95395,     0.95495,     0.95596,     0.95696,     0.95796,     0.95896,     0.95996,\n",
              "           0.96096,     0.96196,     0.96296,     0.96396,     0.96496,     0.96597,     0.96697,     0.96797,     0.96897,     0.96997,     0.97097,     0.97197,     0.97297,     0.97397,     0.97497,     0.97598,     0.97698,     0.97798,     0.97898,     0.97998,     0.98098,     0.98198,     0.98298,     0.98398,\n",
              "           0.98498,     0.98599,     0.98699,     0.98799,     0.98899,     0.98999,     0.99099,     0.99199,     0.99299,     0.99399,     0.99499,       0.996,       0.997,       0.998,       0.999,           1]), array([[          1,           1,           1,           1,           1,           1,           1,           1,           1,           1,           1,           1,           1,           1,           1,           1,           1,           1,           1,           1,           1,           1,           1,\n",
              "                  1,           1,           1,           1,           1,           1,           1,           1,           1,           1,           1,           1,           1,           1,           1,           1,           1,           1,           1,           1,           1,           1,           1,\n",
              "                  1,           1,           1,           1,           1,           1,           1,           1,           1,           1,           1,           1,           1,           1,           1,           1,           1,           1,           1,           1,           1,           1,           1,\n",
              "                  1,           1,           1,           1,           1,           1,           1,           1,           1,           1,           1,           1,           1,           1,           1,           1,           1,           1,           1,           1,           1,           1,           1,\n",
              "                  1,           1,           1,           1,           1,           1,           1,           1,           1,           1,           1,           1,           1,           1,           1,           1,           1,           1,           1,           1,           1,           1,           1,\n",
              "                  1,           1,           1,           1,           1,           1,           1,           1,           1,           1,           1,           1,           1,           1,           1,           1,           1,           1,           1,           1,           1,           1,           1,\n",
              "                  1,           1,           1,           1,     0.98462,     0.98462,     0.98462,     0.98462,     0.98462,     0.98462,     0.98462,     0.98462,     0.98462,     0.98462,     0.98462,     0.98462,     0.98462,     0.98462,     0.98462,     0.98462,     0.98462,     0.98462,     0.98462,\n",
              "            0.98462,     0.98462,     0.98462,     0.98462,     0.98462,     0.98462,     0.98462,     0.98462,     0.98462,     0.98462,     0.98462,     0.98462,     0.98462,     0.98462,     0.98462,     0.98462,     0.98462,     0.98462,     0.98462,     0.98462,     0.98462,     0.98462,     0.98462,\n",
              "            0.98462,     0.98462,     0.98462,     0.98462,     0.98462,     0.98462,     0.98462,     0.98462,     0.98462,     0.98462,     0.98462,     0.98462,     0.98462,     0.98462,     0.98462,     0.98462,     0.98462,     0.98462,     0.98462,     0.98462,     0.98462,     0.98462,     0.98462,\n",
              "            0.98462,     0.98462,     0.98462,     0.98462,     0.98462,     0.98462,     0.98462,     0.98462,     0.98462,     0.98462,     0.98462,     0.98462,     0.98462,     0.98462,     0.98462,     0.98462,     0.98462,     0.98462,     0.98462,     0.98462,     0.98462,     0.98462,     0.98462,\n",
              "            0.98462,     0.98462,     0.98462,     0.98462,     0.98462,     0.98462,     0.98462,     0.98462,     0.98462,     0.98462,     0.98462,     0.98462,     0.98462,     0.98462,     0.98462,     0.98462,     0.98462,     0.98462,     0.98462,     0.98462,     0.98462,     0.98462,     0.98462,\n",
              "            0.98462,     0.98462,     0.98462,     0.98462,     0.98462,     0.98462,     0.98462,     0.98462,     0.98462,     0.98462,     0.98462,     0.98462,     0.98462,     0.98462,     0.98462,     0.98462,     0.98462,     0.98462,     0.98462,     0.98462,     0.98462,     0.98462,     0.98462,\n",
              "            0.98462,     0.98462,     0.98462,     0.98462,     0.98462,     0.98462,     0.98462,     0.98462,     0.98462,     0.98462,     0.98462,     0.98462,     0.98462,     0.98462,     0.98462,     0.98462,     0.98462,     0.98462,     0.98462,     0.98462,     0.98462,     0.98462,     0.98462,\n",
              "            0.98462,     0.98462,     0.98462,     0.98462,     0.98462,     0.98462,     0.98462,     0.98462,     0.98462,     0.98462,     0.98462,     0.98462,     0.98462,     0.98462,     0.98462,     0.98462,     0.98462,     0.98462,     0.98462,     0.98462,     0.98462,     0.98462,     0.98462,\n",
              "            0.98462,     0.98462,     0.98462,     0.98462,     0.98462,     0.98462,     0.98462,     0.98462,     0.98462,     0.98462,     0.98462,     0.98462,     0.98462,     0.98462,     0.98462,     0.98462,     0.98462,     0.98462,     0.98462,     0.98462,     0.98462,     0.98462,     0.98462,\n",
              "            0.98462,     0.98462,     0.98462,     0.98462,     0.98462,     0.98462,     0.98462,     0.98462,     0.98462,     0.98462,     0.98462,     0.98462,     0.98462,     0.98462,     0.98462,     0.98462,     0.98462,     0.98462,     0.98462,     0.98462,     0.98462,     0.98462,     0.98462,\n",
              "            0.98462,     0.98462,     0.98462,     0.98462,     0.98462,     0.98462,     0.98462,     0.98462,     0.98462,     0.98462,     0.98462,     0.98462,     0.98462,     0.98462,     0.98462,     0.98462,     0.98462,     0.98462,     0.98462,     0.98462,     0.98462,     0.98462,     0.98462,\n",
              "            0.98462,     0.98462,     0.98462,     0.98462,     0.98462,     0.98462,     0.98462,     0.98462,     0.98462,     0.98462,     0.98462,     0.98462,     0.98462,     0.98462,     0.98462,     0.98462,     0.98462,     0.98462,     0.98462,     0.98462,     0.98462,     0.98462,     0.98462,\n",
              "            0.98462,     0.98462,     0.98462,     0.98462,     0.98462,     0.98462,     0.98462,     0.98462,     0.98462,     0.98462,     0.98462,     0.98462,     0.98462,     0.98462,     0.98462,     0.98462,     0.98462,     0.98462,     0.98462,     0.98462,     0.98462,     0.98462,     0.98462,\n",
              "            0.98462,     0.98462,     0.98462,     0.98462,     0.98462,     0.98462,     0.98462,     0.98462,     0.98462,     0.98462,     0.98462,     0.98462,     0.98462,     0.98462,     0.98462,     0.98462,     0.98462,     0.98462,     0.98462,     0.98462,     0.98462,     0.98462,     0.98462,\n",
              "            0.98462,     0.98462,     0.98462,     0.98462,     0.98462,     0.98462,     0.98462,     0.98462,     0.98462,     0.98462,     0.98462,     0.98462,     0.98462,     0.98462,     0.98462,     0.98462,     0.98462,     0.98462,     0.97222,     0.97222,     0.97222,     0.97222,     0.97222,\n",
              "            0.97222,     0.97222,     0.97222,     0.97222,     0.97222,     0.97222,     0.97222,     0.97222,     0.97222,     0.97222,     0.97222,     0.97222,     0.97222,     0.97222,     0.97222,     0.97222,     0.97222,     0.97222,     0.97222,     0.97222,     0.97222,     0.97222,     0.97222,\n",
              "            0.97222,     0.97222,     0.97222,     0.97222,     0.97222,     0.97222,     0.97222,     0.97222,     0.97222,     0.97222,     0.97222,     0.97222,     0.97222,     0.97222,     0.97222,     0.97222,     0.96341,     0.96341,     0.96341,     0.96341,     0.96341,     0.96341,     0.96341,\n",
              "            0.96341,     0.96341,     0.96341,     0.96341,     0.96341,     0.96341,     0.96341,     0.96341,     0.96341,     0.96341,     0.96341,     0.96341,     0.96341,     0.96341,     0.96341,     0.96341,     0.96341,     0.96341,     0.96341,     0.96341,     0.96341,     0.96341,     0.96341,\n",
              "            0.96341,     0.96341,     0.96341,     0.96341,     0.96341,     0.96341,     0.96341,     0.96341,     0.96341,     0.96341,     0.96341,     0.96341,     0.96341,     0.96341,     0.96341,     0.96341,     0.96341,     0.96341,     0.96341,     0.96341,     0.96341,     0.96341,     0.96341,\n",
              "            0.96341,     0.96341,     0.96341,     0.96341,     0.96341,     0.96341,     0.96341,     0.96341,     0.96341,     0.96341,     0.96341,     0.96341,     0.96341,     0.96341,     0.95745,     0.95745,     0.95745,     0.95745,     0.95745,     0.95745,     0.95745,     0.95745,     0.95745,\n",
              "            0.95745,     0.95745,     0.95745,     0.95745,     0.95745,     0.95745,     0.95745,     0.95745,     0.95745,     0.95745,     0.95745,     0.95745,     0.95745,     0.95745,     0.95745,     0.95745,     0.95745,     0.95745,     0.95745,     0.95745,     0.95745,     0.95745,     0.95745,\n",
              "            0.95745,     0.95745,     0.95745,     0.95745,     0.95745,     0.95745,     0.95745,     0.95745,     0.95745,     0.95745,     0.95745,     0.95745,     0.95745,     0.95745,     0.95745,     0.95745,     0.95745,     0.95745,     0.95745,     0.95745,     0.95745,     0.95745,     0.95745,\n",
              "            0.95745,     0.95745,     0.95745,     0.95745,     0.95745,     0.95745,     0.95745,     0.95745,     0.95745,     0.95745,     0.95745,     0.95745,     0.95745,     0.95745,     0.95745,     0.95745,     0.95745,     0.95745,     0.95745,     0.95745,     0.95745,     0.95745,     0.95745,\n",
              "            0.95745,     0.95745,     0.95745,     0.95745,     0.95192,     0.95192,     0.95192,     0.95192,     0.95192,     0.95192,     0.95192,     0.95192,     0.95192,     0.95192,     0.95192,     0.95192,     0.95192,     0.95192,     0.95192,     0.95192,     0.95192,     0.95192,     0.95192,\n",
              "            0.95192,     0.95192,     0.95192,     0.95192,     0.95192,     0.95192,     0.95192,     0.95192,     0.95192,     0.95192,     0.95192,     0.95192,     0.95192,     0.95192,     0.95192,     0.95192,     0.95192,     0.95192,     0.95192,     0.95192,     0.95192,     0.95192,     0.95192,\n",
              "            0.95192,     0.95192,     0.95192,     0.95192,     0.95192,     0.95192,     0.95192,     0.95192,     0.95192,     0.95192,     0.95192,     0.95192,     0.95192,     0.95192,     0.95192,     0.95192,     0.95192,     0.95192,     0.95192,     0.95192,     0.95192,     0.95192,     0.95192,\n",
              "            0.95192,     0.95192,     0.95192,      0.9469,      0.9469,      0.9469,      0.9469,      0.9469,      0.9469,      0.9469,      0.9469,      0.9469,      0.9469,      0.9469,      0.9469,      0.9469,      0.9469,      0.9469,      0.9469,      0.9469,      0.9469,      0.9469,      0.9469,\n",
              "             0.9469,      0.9469,      0.9469,      0.9469,      0.9469,      0.9469,      0.9469,      0.9469,      0.9469,      0.9469,      0.9469,      0.9469,      0.9469,      0.9469,      0.9469,      0.9469,      0.9469,      0.9469,      0.9469,      0.9469,      0.9469,      0.9469,      0.9469,\n",
              "             0.9469,      0.9469,      0.9469,      0.9469,      0.9469,      0.9469,      0.9469,      0.9469,      0.9469,      0.9469,      0.9469,      0.9469,      0.9469,      0.9469,      0.9469,      0.9469,     0.94068,     0.94068,     0.94068,     0.94068,     0.94068,     0.94068,     0.94068,\n",
              "            0.94068,     0.94068,     0.94068,     0.94068,     0.94068,     0.94068,     0.94068,     0.94068,     0.94068,     0.94068,     0.94068,     0.94068,     0.94068,     0.94068,     0.94068,     0.94068,     0.94068,     0.94068,     0.94068,     0.94068,     0.94068,     0.94068,     0.94068,\n",
              "            0.93443,     0.93443,     0.93443,     0.93443,     0.93443,     0.93443,     0.93443,     0.93443,     0.93443,     0.93443,     0.93443,     0.93443,     0.93443,     0.93443,     0.93443,     0.93443,     0.93443,     0.93443,     0.93443,     0.93443,     0.93443,     0.93443,     0.93023,\n",
              "            0.93023,     0.93023,     0.93023,     0.93023,     0.93023,     0.93023,     0.93023,     0.93023,     0.93023,     0.93023,     0.93023,     0.93023,     0.93023,     0.93023,     0.93023,     0.93023,     0.93023,     0.93023,     0.93023,     0.93023,     0.93023,     0.93023,     0.93023,\n",
              "            0.93023,     0.93023,     0.93023,     0.93023,     0.93023,     0.93023,     0.93023,     0.93023,     0.93023,     0.93023,     0.93023,     0.93023,     0.93023,     0.93023,     0.93023,     0.93023,     0.93023,     0.93023,     0.93023,     0.93023,     0.93023,     0.91667,     0.91667,\n",
              "            0.91667,     0.91667,     0.91667,     0.91667,     0.91667,     0.91667,     0.89706,     0.89706,     0.89706,     0.89706,     0.89706,     0.89706,     0.89706,      0.8913,      0.8913,      0.8913,      0.8913,      0.8913,      0.8913,      0.8913,     0.88571,     0.88571,     0.88571,\n",
              "            0.88571,     0.88571,     0.88571,     0.88571,     0.88571,     0.88028,     0.88028,     0.88028,     0.88028,     0.88028,     0.88028,     0.88028,     0.86986,     0.86986,     0.86986,     0.86986,     0.86986,     0.86986,     0.86986,     0.86986,     0.86986,     0.86986,     0.86986,\n",
              "            0.86986,     0.86986,     0.86986,     0.86986,     0.85906,     0.85906,     0.85906,     0.85906,     0.85906,     0.85906,     0.85906,     0.85906,     0.81132,     0.81132,     0.81132,     0.81132,     0.81132,     0.81132,     0.81132,     0.73446,     0.73446,     0.73446,     0.73446,\n",
              "            0.73446,     0.73446,     0.73446,     0.73446,     0.71196,     0.71196,     0.71196,     0.71196,     0.71196,     0.71196,     0.71196,     0.62857,     0.62857,     0.62857,     0.62857,     0.62857,     0.62857,     0.62857,     0.62857,    0.031257,    0.031257,    0.031257,    0.031257,\n",
              "           0.031257,    0.031257,    0.031257,    0.015417,    0.013215,    0.011012,   0.0088098,   0.0066073,   0.0044049,   0.0022024,           0]]), 'Recall', 'Precision'], [array([          0,    0.001001,    0.002002,    0.003003,    0.004004,    0.005005,    0.006006,    0.007007,    0.008008,    0.009009,     0.01001,    0.011011,    0.012012,    0.013013,    0.014014,    0.015015,    0.016016,    0.017017,    0.018018,    0.019019,     0.02002,    0.021021,    0.022022,    0.023023,\n",
              "          0.024024,    0.025025,    0.026026,    0.027027,    0.028028,    0.029029,     0.03003,    0.031031,    0.032032,    0.033033,    0.034034,    0.035035,    0.036036,    0.037037,    0.038038,    0.039039,     0.04004,    0.041041,    0.042042,    0.043043,    0.044044,    0.045045,    0.046046,    0.047047,\n",
              "          0.048048,    0.049049,     0.05005,    0.051051,    0.052052,    0.053053,    0.054054,    0.055055,    0.056056,    0.057057,    0.058058,    0.059059,     0.06006,    0.061061,    0.062062,    0.063063,    0.064064,    0.065065,    0.066066,    0.067067,    0.068068,    0.069069,     0.07007,    0.071071,\n",
              "          0.072072,    0.073073,    0.074074,    0.075075,    0.076076,    0.077077,    0.078078,    0.079079,     0.08008,    0.081081,    0.082082,    0.083083,    0.084084,    0.085085,    0.086086,    0.087087,    0.088088,    0.089089,     0.09009,    0.091091,    0.092092,    0.093093,    0.094094,    0.095095,\n",
              "          0.096096,    0.097097,    0.098098,    0.099099,      0.1001,      0.1011,      0.1021,      0.1031,      0.1041,     0.10511,     0.10611,     0.10711,     0.10811,     0.10911,     0.11011,     0.11111,     0.11211,     0.11311,     0.11411,     0.11512,     0.11612,     0.11712,     0.11812,     0.11912,\n",
              "           0.12012,     0.12112,     0.12212,     0.12312,     0.12412,     0.12513,     0.12613,     0.12713,     0.12813,     0.12913,     0.13013,     0.13113,     0.13213,     0.13313,     0.13413,     0.13514,     0.13614,     0.13714,     0.13814,     0.13914,     0.14014,     0.14114,     0.14214,     0.14314,\n",
              "           0.14414,     0.14515,     0.14615,     0.14715,     0.14815,     0.14915,     0.15015,     0.15115,     0.15215,     0.15315,     0.15415,     0.15516,     0.15616,     0.15716,     0.15816,     0.15916,     0.16016,     0.16116,     0.16216,     0.16316,     0.16416,     0.16517,     0.16617,     0.16717,\n",
              "           0.16817,     0.16917,     0.17017,     0.17117,     0.17217,     0.17317,     0.17417,     0.17518,     0.17618,     0.17718,     0.17818,     0.17918,     0.18018,     0.18118,     0.18218,     0.18318,     0.18418,     0.18519,     0.18619,     0.18719,     0.18819,     0.18919,     0.19019,     0.19119,\n",
              "           0.19219,     0.19319,     0.19419,      0.1952,      0.1962,      0.1972,      0.1982,      0.1992,      0.2002,      0.2012,      0.2022,      0.2032,      0.2042,     0.20521,     0.20621,     0.20721,     0.20821,     0.20921,     0.21021,     0.21121,     0.21221,     0.21321,     0.21421,     0.21522,\n",
              "           0.21622,     0.21722,     0.21822,     0.21922,     0.22022,     0.22122,     0.22222,     0.22322,     0.22422,     0.22523,     0.22623,     0.22723,     0.22823,     0.22923,     0.23023,     0.23123,     0.23223,     0.23323,     0.23423,     0.23524,     0.23624,     0.23724,     0.23824,     0.23924,\n",
              "           0.24024,     0.24124,     0.24224,     0.24324,     0.24424,     0.24525,     0.24625,     0.24725,     0.24825,     0.24925,     0.25025,     0.25125,     0.25225,     0.25325,     0.25425,     0.25526,     0.25626,     0.25726,     0.25826,     0.25926,     0.26026,     0.26126,     0.26226,     0.26326,\n",
              "           0.26426,     0.26527,     0.26627,     0.26727,     0.26827,     0.26927,     0.27027,     0.27127,     0.27227,     0.27327,     0.27427,     0.27528,     0.27628,     0.27728,     0.27828,     0.27928,     0.28028,     0.28128,     0.28228,     0.28328,     0.28428,     0.28529,     0.28629,     0.28729,\n",
              "           0.28829,     0.28929,     0.29029,     0.29129,     0.29229,     0.29329,     0.29429,      0.2953,      0.2963,      0.2973,      0.2983,      0.2993,      0.3003,      0.3013,      0.3023,      0.3033,      0.3043,     0.30531,     0.30631,     0.30731,     0.30831,     0.30931,     0.31031,     0.31131,\n",
              "           0.31231,     0.31331,     0.31431,     0.31532,     0.31632,     0.31732,     0.31832,     0.31932,     0.32032,     0.32132,     0.32232,     0.32332,     0.32432,     0.32533,     0.32633,     0.32733,     0.32833,     0.32933,     0.33033,     0.33133,     0.33233,     0.33333,     0.33433,     0.33534,\n",
              "           0.33634,     0.33734,     0.33834,     0.33934,     0.34034,     0.34134,     0.34234,     0.34334,     0.34434,     0.34535,     0.34635,     0.34735,     0.34835,     0.34935,     0.35035,     0.35135,     0.35235,     0.35335,     0.35435,     0.35536,     0.35636,     0.35736,     0.35836,     0.35936,\n",
              "           0.36036,     0.36136,     0.36236,     0.36336,     0.36436,     0.36537,     0.36637,     0.36737,     0.36837,     0.36937,     0.37037,     0.37137,     0.37237,     0.37337,     0.37437,     0.37538,     0.37638,     0.37738,     0.37838,     0.37938,     0.38038,     0.38138,     0.38238,     0.38338,\n",
              "           0.38438,     0.38539,     0.38639,     0.38739,     0.38839,     0.38939,     0.39039,     0.39139,     0.39239,     0.39339,     0.39439,      0.3954,      0.3964,      0.3974,      0.3984,      0.3994,      0.4004,      0.4014,      0.4024,      0.4034,      0.4044,     0.40541,     0.40641,     0.40741,\n",
              "           0.40841,     0.40941,     0.41041,     0.41141,     0.41241,     0.41341,     0.41441,     0.41542,     0.41642,     0.41742,     0.41842,     0.41942,     0.42042,     0.42142,     0.42242,     0.42342,     0.42442,     0.42543,     0.42643,     0.42743,     0.42843,     0.42943,     0.43043,     0.43143,\n",
              "           0.43243,     0.43343,     0.43443,     0.43544,     0.43644,     0.43744,     0.43844,     0.43944,     0.44044,     0.44144,     0.44244,     0.44344,     0.44444,     0.44545,     0.44645,     0.44745,     0.44845,     0.44945,     0.45045,     0.45145,     0.45245,     0.45345,     0.45445,     0.45546,\n",
              "           0.45646,     0.45746,     0.45846,     0.45946,     0.46046,     0.46146,     0.46246,     0.46346,     0.46446,     0.46547,     0.46647,     0.46747,     0.46847,     0.46947,     0.47047,     0.47147,     0.47247,     0.47347,     0.47447,     0.47548,     0.47648,     0.47748,     0.47848,     0.47948,\n",
              "           0.48048,     0.48148,     0.48248,     0.48348,     0.48448,     0.48549,     0.48649,     0.48749,     0.48849,     0.48949,     0.49049,     0.49149,     0.49249,     0.49349,     0.49449,      0.4955,      0.4965,      0.4975,      0.4985,      0.4995,      0.5005,      0.5015,      0.5025,      0.5035,\n",
              "            0.5045,     0.50551,     0.50651,     0.50751,     0.50851,     0.50951,     0.51051,     0.51151,     0.51251,     0.51351,     0.51451,     0.51552,     0.51652,     0.51752,     0.51852,     0.51952,     0.52052,     0.52152,     0.52252,     0.52352,     0.52452,     0.52553,     0.52653,     0.52753,\n",
              "           0.52853,     0.52953,     0.53053,     0.53153,     0.53253,     0.53353,     0.53453,     0.53554,     0.53654,     0.53754,     0.53854,     0.53954,     0.54054,     0.54154,     0.54254,     0.54354,     0.54454,     0.54555,     0.54655,     0.54755,     0.54855,     0.54955,     0.55055,     0.55155,\n",
              "           0.55255,     0.55355,     0.55455,     0.55556,     0.55656,     0.55756,     0.55856,     0.55956,     0.56056,     0.56156,     0.56256,     0.56356,     0.56456,     0.56557,     0.56657,     0.56757,     0.56857,     0.56957,     0.57057,     0.57157,     0.57257,     0.57357,     0.57457,     0.57558,\n",
              "           0.57658,     0.57758,     0.57858,     0.57958,     0.58058,     0.58158,     0.58258,     0.58358,     0.58458,     0.58559,     0.58659,     0.58759,     0.58859,     0.58959,     0.59059,     0.59159,     0.59259,     0.59359,     0.59459,      0.5956,      0.5966,      0.5976,      0.5986,      0.5996,\n",
              "            0.6006,      0.6016,      0.6026,      0.6036,      0.6046,     0.60561,     0.60661,     0.60761,     0.60861,     0.60961,     0.61061,     0.61161,     0.61261,     0.61361,     0.61461,     0.61562,     0.61662,     0.61762,     0.61862,     0.61962,     0.62062,     0.62162,     0.62262,     0.62362,\n",
              "           0.62462,     0.62563,     0.62663,     0.62763,     0.62863,     0.62963,     0.63063,     0.63163,     0.63263,     0.63363,     0.63463,     0.63564,     0.63664,     0.63764,     0.63864,     0.63964,     0.64064,     0.64164,     0.64264,     0.64364,     0.64464,     0.64565,     0.64665,     0.64765,\n",
              "           0.64865,     0.64965,     0.65065,     0.65165,     0.65265,     0.65365,     0.65465,     0.65566,     0.65666,     0.65766,     0.65866,     0.65966,     0.66066,     0.66166,     0.66266,     0.66366,     0.66466,     0.66567,     0.66667,     0.66767,     0.66867,     0.66967,     0.67067,     0.67167,\n",
              "           0.67267,     0.67367,     0.67467,     0.67568,     0.67668,     0.67768,     0.67868,     0.67968,     0.68068,     0.68168,     0.68268,     0.68368,     0.68468,     0.68569,     0.68669,     0.68769,     0.68869,     0.68969,     0.69069,     0.69169,     0.69269,     0.69369,     0.69469,      0.6957,\n",
              "            0.6967,      0.6977,      0.6987,      0.6997,      0.7007,      0.7017,      0.7027,      0.7037,      0.7047,     0.70571,     0.70671,     0.70771,     0.70871,     0.70971,     0.71071,     0.71171,     0.71271,     0.71371,     0.71471,     0.71572,     0.71672,     0.71772,     0.71872,     0.71972,\n",
              "           0.72072,     0.72172,     0.72272,     0.72372,     0.72472,     0.72573,     0.72673,     0.72773,     0.72873,     0.72973,     0.73073,     0.73173,     0.73273,     0.73373,     0.73473,     0.73574,     0.73674,     0.73774,     0.73874,     0.73974,     0.74074,     0.74174,     0.74274,     0.74374,\n",
              "           0.74474,     0.74575,     0.74675,     0.74775,     0.74875,     0.74975,     0.75075,     0.75175,     0.75275,     0.75375,     0.75475,     0.75576,     0.75676,     0.75776,     0.75876,     0.75976,     0.76076,     0.76176,     0.76276,     0.76376,     0.76476,     0.76577,     0.76677,     0.76777,\n",
              "           0.76877,     0.76977,     0.77077,     0.77177,     0.77277,     0.77377,     0.77477,     0.77578,     0.77678,     0.77778,     0.77878,     0.77978,     0.78078,     0.78178,     0.78278,     0.78378,     0.78478,     0.78579,     0.78679,     0.78779,     0.78879,     0.78979,     0.79079,     0.79179,\n",
              "           0.79279,     0.79379,     0.79479,      0.7958,      0.7968,      0.7978,      0.7988,      0.7998,      0.8008,      0.8018,      0.8028,      0.8038,      0.8048,     0.80581,     0.80681,     0.80781,     0.80881,     0.80981,     0.81081,     0.81181,     0.81281,     0.81381,     0.81481,     0.81582,\n",
              "           0.81682,     0.81782,     0.81882,     0.81982,     0.82082,     0.82182,     0.82282,     0.82382,     0.82482,     0.82583,     0.82683,     0.82783,     0.82883,     0.82983,     0.83083,     0.83183,     0.83283,     0.83383,     0.83483,     0.83584,     0.83684,     0.83784,     0.83884,     0.83984,\n",
              "           0.84084,     0.84184,     0.84284,     0.84384,     0.84484,     0.84585,     0.84685,     0.84785,     0.84885,     0.84985,     0.85085,     0.85185,     0.85285,     0.85385,     0.85485,     0.85586,     0.85686,     0.85786,     0.85886,     0.85986,     0.86086,     0.86186,     0.86286,     0.86386,\n",
              "           0.86486,     0.86587,     0.86687,     0.86787,     0.86887,     0.86987,     0.87087,     0.87187,     0.87287,     0.87387,     0.87487,     0.87588,     0.87688,     0.87788,     0.87888,     0.87988,     0.88088,     0.88188,     0.88288,     0.88388,     0.88488,     0.88589,     0.88689,     0.88789,\n",
              "           0.88889,     0.88989,     0.89089,     0.89189,     0.89289,     0.89389,     0.89489,      0.8959,      0.8969,      0.8979,      0.8989,      0.8999,      0.9009,      0.9019,      0.9029,      0.9039,      0.9049,     0.90591,     0.90691,     0.90791,     0.90891,     0.90991,     0.91091,     0.91191,\n",
              "           0.91291,     0.91391,     0.91491,     0.91592,     0.91692,     0.91792,     0.91892,     0.91992,     0.92092,     0.92192,     0.92292,     0.92392,     0.92492,     0.92593,     0.92693,     0.92793,     0.92893,     0.92993,     0.93093,     0.93193,     0.93293,     0.93393,     0.93493,     0.93594,\n",
              "           0.93694,     0.93794,     0.93894,     0.93994,     0.94094,     0.94194,     0.94294,     0.94394,     0.94494,     0.94595,     0.94695,     0.94795,     0.94895,     0.94995,     0.95095,     0.95195,     0.95295,     0.95395,     0.95495,     0.95596,     0.95696,     0.95796,     0.95896,     0.95996,\n",
              "           0.96096,     0.96196,     0.96296,     0.96396,     0.96496,     0.96597,     0.96697,     0.96797,     0.96897,     0.96997,     0.97097,     0.97197,     0.97297,     0.97397,     0.97497,     0.97598,     0.97698,     0.97798,     0.97898,     0.97998,     0.98098,     0.98198,     0.98298,     0.98398,\n",
              "           0.98498,     0.98599,     0.98699,     0.98799,     0.98899,     0.98999,     0.99099,     0.99199,     0.99299,     0.99399,     0.99499,       0.996,       0.997,       0.998,       0.999,           1]), array([[   0.032305,    0.032305,    0.045176,    0.060426,      0.1043,     0.21073,     0.33677,     0.44283,     0.50493,     0.55151,     0.59194,     0.60622,     0.62095,     0.63709,     0.64946,     0.65603,     0.66361,     0.67544,     0.68093,     0.68776,     0.69657,     0.70262,     0.70626,\n",
              "            0.70777,     0.70963,      0.7117,     0.71247,     0.71325,      0.7167,     0.72171,     0.72278,      0.7245,     0.73143,      0.7326,      0.7339,     0.73541,     0.73657,     0.73799,     0.74035,     0.74568,     0.74662,      0.7475,     0.74816,     0.74865,     0.74915,     0.74964,\n",
              "            0.75044,     0.75207,     0.75491,     0.75591,     0.75766,     0.75966,     0.76435,     0.76621,     0.76729,     0.76553,     0.76925,     0.77089,     0.77303,      0.7734,     0.77377,     0.77413,      0.7745,     0.77486,     0.77654,     0.77991,     0.78376,     0.78521,     0.78601,\n",
              "            0.78685,     0.78854,     0.79015,     0.79178,     0.79396,     0.79537,     0.79882,      0.7994,     0.79998,     0.80056,     0.80114,     0.80174,     0.80234,     0.80294,     0.80354,     0.80421,      0.8049,     0.80559,     0.80628,     0.80703,     0.80777,     0.80851,     0.80892,\n",
              "            0.80926,     0.80959,     0.80993,     0.81027,      0.8106,     0.81094,     0.81175,     0.81334,     0.81532,     0.81713,     0.81873,     0.82107,     0.82034,     0.82096,     0.82175,     0.82254,     0.82821,     0.82848,     0.82874,     0.82901,     0.82927,     0.82954,     0.82981,\n",
              "            0.83007,     0.83034,      0.8306,     0.83143,     0.83245,     0.83349,     0.83475,       0.836,     0.83524,     0.83446,     0.83368,      0.8329,      0.8329,     0.83809,     0.83907,     0.84004,     0.84199,      0.8435,     0.84417,     0.84483,      0.8455,     0.84719,     0.84904,\n",
              "             0.8497,     0.85035,     0.85101,     0.85182,     0.85303,     0.85425,     0.85468,     0.85506,     0.85545,     0.85584,     0.85623,     0.85662,       0.857,     0.85745,     0.85794,     0.85843,     0.85892,     0.85941,     0.85989,     0.86124,     0.86281,     0.86325,     0.86364,\n",
              "            0.86403,     0.86442,     0.86481,      0.8652,     0.86558,     0.86583,     0.86594,     0.86605,     0.86615,     0.86626,     0.86637,     0.86648,     0.86659,      0.8667,     0.86681,     0.86692,     0.86703,     0.86713,     0.86724,     0.86735,     0.86746,     0.86757,     0.86768,\n",
              "            0.86779,     0.86789,       0.868,     0.86811,     0.86822,     0.86833,     0.86844,     0.86854,     0.86865,     0.86878,     0.86892,     0.86907,     0.86921,     0.86935,     0.86949,     0.86963,     0.86977,     0.86991,     0.87005,     0.87019,     0.87033,     0.87047,     0.87062,\n",
              "            0.87076,      0.8709,     0.87104,     0.87118,     0.87132,     0.87146,      0.8716,     0.87181,     0.87203,     0.87225,     0.87247,     0.87269,     0.87291,     0.87313,     0.87335,     0.87357,     0.87379,     0.87401,     0.87423,     0.87445,     0.87518,     0.87662,     0.87774,\n",
              "            0.87829,     0.87883,     0.87938,     0.87992,     0.88047,     0.87905,      0.8773,     0.87691,      0.8772,     0.87749,     0.87778,     0.87807,     0.87836,     0.87865,     0.87894,     0.87923,     0.87952,      0.8798,     0.88005,      0.8803,     0.88056,     0.88081,     0.88106,\n",
              "            0.88131,     0.88156,     0.88181,     0.88206,     0.88231,     0.88256,     0.88284,     0.88317,     0.88351,     0.88385,     0.88419,     0.88453,     0.88487,     0.88521,     0.88554,     0.88892,     0.88907,     0.88922,     0.88937,     0.88953,     0.88968,     0.88983,     0.88998,\n",
              "            0.89013,     0.89028,     0.89043,     0.89058,     0.89074,     0.89089,     0.89104,     0.89119,     0.89134,     0.89149,     0.89164,     0.89179,     0.89194,     0.89209,     0.89224,     0.89239,     0.89253,     0.89268,     0.89283,     0.89298,     0.89312,     0.89327,     0.89342,\n",
              "            0.89356,     0.89371,     0.89386,       0.894,     0.89415,      0.8943,     0.89444,     0.89459,     0.89474,     0.89488,     0.89503,     0.89556,     0.89648,      0.8974,      0.8984,     0.90025,     0.90157,     0.90199,     0.90241,     0.90283,     0.90325,     0.90367,     0.90409,\n",
              "            0.90451,     0.90429,     0.90391,     0.90353,     0.90315,     0.90277,     0.90239,     0.90201,     0.90163,     0.90125,     0.90087,     0.90108,     0.90174,      0.9024,     0.90306,     0.90371,     0.90462,     0.90564,     0.90666,     0.90631,      0.9047,     0.90322,     0.90312,\n",
              "            0.90302,     0.90292,     0.90283,     0.90273,     0.90263,     0.90253,     0.90244,     0.90234,     0.90224,     0.90214,     0.90204,     0.90195,     0.90185,     0.90175,     0.90165,     0.90155,     0.90146,     0.90136,     0.90126,     0.90116,     0.90106,     0.90097,     0.90087,\n",
              "            0.90077,     0.90067,     0.90057,     0.90048,     0.90038,     0.90028,     0.90018,     0.90008,     0.89998,     0.89989,     0.89979,     0.89969,     0.89959,     0.89949,     0.89939,      0.8993,     0.89968,     0.90016,     0.90063,     0.90111,     0.90158,     0.90206,     0.90253,\n",
              "            0.90273,     0.90294,     0.90314,     0.90334,     0.90355,     0.90375,     0.90395,     0.90416,     0.90436,     0.90456,     0.90477,     0.90497,     0.90517,     0.90537,     0.90558,     0.90578,     0.90566,     0.90551,     0.90536,     0.90521,     0.90506,     0.90491,     0.90476,\n",
              "            0.90462,     0.90447,     0.90432,     0.90417,     0.90402,     0.90387,     0.90372,     0.90357,     0.90342,     0.90327,     0.90312,     0.90297,     0.90282,     0.90267,     0.90252,     0.90237,     0.90222,     0.90207,     0.90192,     0.90188,     0.90209,     0.90229,     0.90249,\n",
              "            0.90269,     0.90289,      0.9031,      0.9033,      0.9035,      0.9037,      0.9039,      0.9041,      0.9043,      0.9045,     0.90471,     0.90491,     0.90511,     0.90487,     0.90462,     0.90438,     0.90413,     0.90389,     0.90364,      0.9034,     0.90315,     0.90291,     0.90266,\n",
              "            0.90242,     0.90217,     0.90192,     0.90168,     0.90143,     0.90119,     0.90183,     0.90296,     0.90409,     0.90435,     0.90427,     0.90419,      0.9041,     0.90402,     0.90394,     0.90386,     0.90377,     0.90369,     0.90361,     0.90353,     0.90344,     0.90336,     0.90328,\n",
              "            0.90319,     0.90311,     0.90303,     0.90295,     0.90286,     0.90278,      0.9027,     0.90261,     0.90253,     0.90245,     0.90237,     0.90228,      0.9022,     0.90212,     0.90203,     0.90195,     0.90187,     0.90179,      0.9017,     0.90162,     0.90154,     0.90145,     0.90137,\n",
              "            0.90129,      0.9012,     0.90112,     0.90104,     0.90096,     0.90087,     0.90079,     0.90071,     0.90062,     0.90054,     0.90046,     0.90037,     0.90047,     0.90057,     0.90067,     0.90078,     0.90088,     0.90099,     0.90109,     0.90119,      0.9013,      0.9014,      0.9015,\n",
              "            0.90161,     0.90171,     0.90182,     0.90192,     0.90202,     0.90213,     0.90223,     0.90233,     0.90244,     0.90254,     0.90264,     0.90275,     0.90285,     0.90295,     0.90306,     0.90316,     0.90326,     0.90337,     0.90347,     0.90357,     0.90368,     0.90363,     0.90352,\n",
              "            0.90342,     0.90331,     0.90321,     0.90311,       0.903,      0.9029,     0.90279,     0.90269,     0.90258,     0.90248,     0.90238,     0.90227,     0.90217,     0.90206,     0.90196,     0.90185,     0.90175,     0.90164,     0.90154,     0.90144,     0.90133,     0.90123,     0.90112,\n",
              "            0.90102,     0.90091,     0.90081,      0.9007,      0.9006,     0.90049,     0.90039,     0.90029,     0.90018,     0.90008,     0.89997,     0.89987,     0.89976,     0.89966,     0.90025,     0.90111,     0.90197,     0.90283,     0.90315,     0.90336,     0.90356,     0.90377,     0.90397,\n",
              "            0.90417,     0.90438,     0.90458,     0.90479,     0.90499,     0.90519,      0.9054,      0.9056,      0.9058,     0.90601,     0.90621,     0.90973,     0.90955,     0.90937,     0.90918,       0.909,     0.90882,     0.90863,     0.90845,     0.90827,     0.90808,      0.9079,     0.90772,\n",
              "            0.90753,     0.90735,     0.90717,     0.90698,      0.9068,     0.90662,     0.90643,     0.90625,     0.90607,     0.90588,      0.9057,     0.90929,     0.90994,     0.91058,     0.91123,     0.91187,     0.91251,     0.91175,      0.9109,     0.91005,      0.9092,     0.90835,      0.9077,\n",
              "            0.90704,     0.90638,     0.90572,     0.90506,      0.9044,     0.90387,     0.90339,     0.90291,     0.90243,     0.90195,     0.90147,     0.90099,     0.90051,     0.90003,     0.89986,     0.89972,     0.89957,     0.89943,     0.89928,     0.89914,       0.899,     0.89885,     0.89871,\n",
              "            0.89856,     0.89842,     0.89827,     0.89813,     0.89798,     0.89784,     0.89769,     0.89754,      0.8974,     0.89725,     0.89711,     0.89696,     0.89682,     0.89667,     0.89653,     0.89638,     0.89624,     0.89609,     0.89595,      0.8958,     0.89569,     0.89558,     0.89548,\n",
              "            0.89538,     0.89528,     0.89518,     0.89508,     0.89498,     0.89488,     0.89478,     0.89468,     0.89458,     0.89448,     0.89438,     0.89428,     0.89418,     0.89407,     0.89397,     0.89387,     0.89377,     0.89367,     0.89357,     0.89347,     0.89337,     0.89327,     0.89317,\n",
              "            0.89307,     0.89297,     0.89286,     0.89276,     0.89266,     0.89256,     0.89246,     0.89236,     0.89226,     0.89216,     0.89206,     0.89195,     0.89185,     0.89175,     0.89165,     0.89155,     0.89105,     0.88929,     0.88752,     0.88744,      0.8878,     0.88816,     0.88851,\n",
              "            0.88887,     0.88922,     0.88958,     0.88993,     0.89029,      0.8905,     0.88753,     0.88611,     0.88582,     0.88553,     0.88524,     0.88495,     0.88466,     0.88437,     0.88408,     0.88379,      0.8835,     0.88321,     0.88292,     0.88263,     0.88234,     0.88205,     0.88051,\n",
              "            0.87749,     0.87836,     0.87925,     0.88014,     0.88092,     0.88055,     0.88019,     0.87983,     0.87946,     0.87909,     0.87873,     0.87836,       0.878,     0.87763,     0.87727,      0.8769,     0.87653,     0.87586,     0.87515,     0.87444,     0.87374,     0.87303,     0.87232,\n",
              "            0.87157,      0.8708,     0.87003,     0.86925,     0.86848,      0.8677,     0.86692,     0.86615,     0.86537,     0.86459,      0.8638,     0.86302,     0.86314,     0.86341,     0.86369,     0.86397,     0.86424,     0.86452,     0.86479,     0.86507,     0.86534,     0.86562,     0.86589,\n",
              "            0.86617,     0.86588,     0.86273,     0.86105,     0.85999,     0.85893,     0.85787,     0.85664,     0.85505,     0.85344,     0.85122,     0.84799,     0.84624,     0.84461,     0.84298,     0.84265,     0.84232,       0.842,     0.84167,     0.84134,     0.84101,     0.84068,     0.84036,\n",
              "            0.84003,      0.8397,     0.83937,     0.83904,     0.83871,     0.83838,     0.83773,     0.83649,     0.83525,     0.83401,     0.83219,     0.82969,     0.83027,      0.8316,     0.83097,     0.83034,     0.82971,     0.82908,     0.82844,     0.82781,     0.82718,     0.82142,     0.81885,\n",
              "            0.81627,     0.81369,     0.81185,      0.8115,     0.81115,     0.81081,     0.81046,     0.81011,     0.80976,     0.80941,     0.80907,     0.80872,     0.80837,     0.80802,     0.80767,     0.80732,     0.80697,     0.80502,     0.80238,     0.80039,     0.79862,     0.79685,     0.78948,\n",
              "            0.78731,     0.78912,     0.78821,      0.7873,     0.78639,     0.78548,     0.78457,      0.7812,      0.7767,     0.77227,     0.76557,     0.76215,     0.76088,     0.75962,     0.75834,     0.75707,     0.73676,     0.73351,     0.73202,     0.73053,     0.72903,     0.72946,       0.729,\n",
              "            0.71829,     0.71521,     0.71211,       0.709,     0.69297,     0.68177,     0.67285,     0.66953,      0.6657,     0.65781,      0.6441,     0.64156,     0.64209,     0.63741,     0.63085,     0.62018,     0.59598,     0.58085,     0.56871,     0.56559,     0.56154,     0.55629,     0.55099,\n",
              "            0.53224,     0.50749,     0.49681,     0.48147,     0.46537,     0.46089,     0.44673,     0.43572,      0.4236,     0.39764,     0.39024,     0.38251,     0.38002,     0.37753,     0.37503,     0.37089,     0.36414,     0.35093,     0.34798,     0.34501,     0.34089,     0.33565,     0.32221,\n",
              "            0.31181,     0.30456,     0.29033,     0.28477,     0.27807,     0.26674,     0.24692,     0.24759,     0.24824,     0.23301,     0.22822,     0.21633,     0.16692,     0.13987,     0.10067,    0.072303,    0.066384,    0.060647,    0.056782,    0.054557,    0.052328,    0.050093,    0.047853,\n",
              "           0.045608,    0.040947,     0.02887,     0.02639,    0.023904,    0.021412,    0.018913,    0.016408,           0,           0,           0,           0,           0,           0,           0,           0,           0,           0,           0,           0,           0,           0,           0,\n",
              "                  0,           0,           0,           0,           0,           0,           0,           0,           0,           0,           0]]), 'Confidence', 'F1'], [array([          0,    0.001001,    0.002002,    0.003003,    0.004004,    0.005005,    0.006006,    0.007007,    0.008008,    0.009009,     0.01001,    0.011011,    0.012012,    0.013013,    0.014014,    0.015015,    0.016016,    0.017017,    0.018018,    0.019019,     0.02002,    0.021021,    0.022022,    0.023023,\n",
              "          0.024024,    0.025025,    0.026026,    0.027027,    0.028028,    0.029029,     0.03003,    0.031031,    0.032032,    0.033033,    0.034034,    0.035035,    0.036036,    0.037037,    0.038038,    0.039039,     0.04004,    0.041041,    0.042042,    0.043043,    0.044044,    0.045045,    0.046046,    0.047047,\n",
              "          0.048048,    0.049049,     0.05005,    0.051051,    0.052052,    0.053053,    0.054054,    0.055055,    0.056056,    0.057057,    0.058058,    0.059059,     0.06006,    0.061061,    0.062062,    0.063063,    0.064064,    0.065065,    0.066066,    0.067067,    0.068068,    0.069069,     0.07007,    0.071071,\n",
              "          0.072072,    0.073073,    0.074074,    0.075075,    0.076076,    0.077077,    0.078078,    0.079079,     0.08008,    0.081081,    0.082082,    0.083083,    0.084084,    0.085085,    0.086086,    0.087087,    0.088088,    0.089089,     0.09009,    0.091091,    0.092092,    0.093093,    0.094094,    0.095095,\n",
              "          0.096096,    0.097097,    0.098098,    0.099099,      0.1001,      0.1011,      0.1021,      0.1031,      0.1041,     0.10511,     0.10611,     0.10711,     0.10811,     0.10911,     0.11011,     0.11111,     0.11211,     0.11311,     0.11411,     0.11512,     0.11612,     0.11712,     0.11812,     0.11912,\n",
              "           0.12012,     0.12112,     0.12212,     0.12312,     0.12412,     0.12513,     0.12613,     0.12713,     0.12813,     0.12913,     0.13013,     0.13113,     0.13213,     0.13313,     0.13413,     0.13514,     0.13614,     0.13714,     0.13814,     0.13914,     0.14014,     0.14114,     0.14214,     0.14314,\n",
              "           0.14414,     0.14515,     0.14615,     0.14715,     0.14815,     0.14915,     0.15015,     0.15115,     0.15215,     0.15315,     0.15415,     0.15516,     0.15616,     0.15716,     0.15816,     0.15916,     0.16016,     0.16116,     0.16216,     0.16316,     0.16416,     0.16517,     0.16617,     0.16717,\n",
              "           0.16817,     0.16917,     0.17017,     0.17117,     0.17217,     0.17317,     0.17417,     0.17518,     0.17618,     0.17718,     0.17818,     0.17918,     0.18018,     0.18118,     0.18218,     0.18318,     0.18418,     0.18519,     0.18619,     0.18719,     0.18819,     0.18919,     0.19019,     0.19119,\n",
              "           0.19219,     0.19319,     0.19419,      0.1952,      0.1962,      0.1972,      0.1982,      0.1992,      0.2002,      0.2012,      0.2022,      0.2032,      0.2042,     0.20521,     0.20621,     0.20721,     0.20821,     0.20921,     0.21021,     0.21121,     0.21221,     0.21321,     0.21421,     0.21522,\n",
              "           0.21622,     0.21722,     0.21822,     0.21922,     0.22022,     0.22122,     0.22222,     0.22322,     0.22422,     0.22523,     0.22623,     0.22723,     0.22823,     0.22923,     0.23023,     0.23123,     0.23223,     0.23323,     0.23423,     0.23524,     0.23624,     0.23724,     0.23824,     0.23924,\n",
              "           0.24024,     0.24124,     0.24224,     0.24324,     0.24424,     0.24525,     0.24625,     0.24725,     0.24825,     0.24925,     0.25025,     0.25125,     0.25225,     0.25325,     0.25425,     0.25526,     0.25626,     0.25726,     0.25826,     0.25926,     0.26026,     0.26126,     0.26226,     0.26326,\n",
              "           0.26426,     0.26527,     0.26627,     0.26727,     0.26827,     0.26927,     0.27027,     0.27127,     0.27227,     0.27327,     0.27427,     0.27528,     0.27628,     0.27728,     0.27828,     0.27928,     0.28028,     0.28128,     0.28228,     0.28328,     0.28428,     0.28529,     0.28629,     0.28729,\n",
              "           0.28829,     0.28929,     0.29029,     0.29129,     0.29229,     0.29329,     0.29429,      0.2953,      0.2963,      0.2973,      0.2983,      0.2993,      0.3003,      0.3013,      0.3023,      0.3033,      0.3043,     0.30531,     0.30631,     0.30731,     0.30831,     0.30931,     0.31031,     0.31131,\n",
              "           0.31231,     0.31331,     0.31431,     0.31532,     0.31632,     0.31732,     0.31832,     0.31932,     0.32032,     0.32132,     0.32232,     0.32332,     0.32432,     0.32533,     0.32633,     0.32733,     0.32833,     0.32933,     0.33033,     0.33133,     0.33233,     0.33333,     0.33433,     0.33534,\n",
              "           0.33634,     0.33734,     0.33834,     0.33934,     0.34034,     0.34134,     0.34234,     0.34334,     0.34434,     0.34535,     0.34635,     0.34735,     0.34835,     0.34935,     0.35035,     0.35135,     0.35235,     0.35335,     0.35435,     0.35536,     0.35636,     0.35736,     0.35836,     0.35936,\n",
              "           0.36036,     0.36136,     0.36236,     0.36336,     0.36436,     0.36537,     0.36637,     0.36737,     0.36837,     0.36937,     0.37037,     0.37137,     0.37237,     0.37337,     0.37437,     0.37538,     0.37638,     0.37738,     0.37838,     0.37938,     0.38038,     0.38138,     0.38238,     0.38338,\n",
              "           0.38438,     0.38539,     0.38639,     0.38739,     0.38839,     0.38939,     0.39039,     0.39139,     0.39239,     0.39339,     0.39439,      0.3954,      0.3964,      0.3974,      0.3984,      0.3994,      0.4004,      0.4014,      0.4024,      0.4034,      0.4044,     0.40541,     0.40641,     0.40741,\n",
              "           0.40841,     0.40941,     0.41041,     0.41141,     0.41241,     0.41341,     0.41441,     0.41542,     0.41642,     0.41742,     0.41842,     0.41942,     0.42042,     0.42142,     0.42242,     0.42342,     0.42442,     0.42543,     0.42643,     0.42743,     0.42843,     0.42943,     0.43043,     0.43143,\n",
              "           0.43243,     0.43343,     0.43443,     0.43544,     0.43644,     0.43744,     0.43844,     0.43944,     0.44044,     0.44144,     0.44244,     0.44344,     0.44444,     0.44545,     0.44645,     0.44745,     0.44845,     0.44945,     0.45045,     0.45145,     0.45245,     0.45345,     0.45445,     0.45546,\n",
              "           0.45646,     0.45746,     0.45846,     0.45946,     0.46046,     0.46146,     0.46246,     0.46346,     0.46446,     0.46547,     0.46647,     0.46747,     0.46847,     0.46947,     0.47047,     0.47147,     0.47247,     0.47347,     0.47447,     0.47548,     0.47648,     0.47748,     0.47848,     0.47948,\n",
              "           0.48048,     0.48148,     0.48248,     0.48348,     0.48448,     0.48549,     0.48649,     0.48749,     0.48849,     0.48949,     0.49049,     0.49149,     0.49249,     0.49349,     0.49449,      0.4955,      0.4965,      0.4975,      0.4985,      0.4995,      0.5005,      0.5015,      0.5025,      0.5035,\n",
              "            0.5045,     0.50551,     0.50651,     0.50751,     0.50851,     0.50951,     0.51051,     0.51151,     0.51251,     0.51351,     0.51451,     0.51552,     0.51652,     0.51752,     0.51852,     0.51952,     0.52052,     0.52152,     0.52252,     0.52352,     0.52452,     0.52553,     0.52653,     0.52753,\n",
              "           0.52853,     0.52953,     0.53053,     0.53153,     0.53253,     0.53353,     0.53453,     0.53554,     0.53654,     0.53754,     0.53854,     0.53954,     0.54054,     0.54154,     0.54254,     0.54354,     0.54454,     0.54555,     0.54655,     0.54755,     0.54855,     0.54955,     0.55055,     0.55155,\n",
              "           0.55255,     0.55355,     0.55455,     0.55556,     0.55656,     0.55756,     0.55856,     0.55956,     0.56056,     0.56156,     0.56256,     0.56356,     0.56456,     0.56557,     0.56657,     0.56757,     0.56857,     0.56957,     0.57057,     0.57157,     0.57257,     0.57357,     0.57457,     0.57558,\n",
              "           0.57658,     0.57758,     0.57858,     0.57958,     0.58058,     0.58158,     0.58258,     0.58358,     0.58458,     0.58559,     0.58659,     0.58759,     0.58859,     0.58959,     0.59059,     0.59159,     0.59259,     0.59359,     0.59459,      0.5956,      0.5966,      0.5976,      0.5986,      0.5996,\n",
              "            0.6006,      0.6016,      0.6026,      0.6036,      0.6046,     0.60561,     0.60661,     0.60761,     0.60861,     0.60961,     0.61061,     0.61161,     0.61261,     0.61361,     0.61461,     0.61562,     0.61662,     0.61762,     0.61862,     0.61962,     0.62062,     0.62162,     0.62262,     0.62362,\n",
              "           0.62462,     0.62563,     0.62663,     0.62763,     0.62863,     0.62963,     0.63063,     0.63163,     0.63263,     0.63363,     0.63463,     0.63564,     0.63664,     0.63764,     0.63864,     0.63964,     0.64064,     0.64164,     0.64264,     0.64364,     0.64464,     0.64565,     0.64665,     0.64765,\n",
              "           0.64865,     0.64965,     0.65065,     0.65165,     0.65265,     0.65365,     0.65465,     0.65566,     0.65666,     0.65766,     0.65866,     0.65966,     0.66066,     0.66166,     0.66266,     0.66366,     0.66466,     0.66567,     0.66667,     0.66767,     0.66867,     0.66967,     0.67067,     0.67167,\n",
              "           0.67267,     0.67367,     0.67467,     0.67568,     0.67668,     0.67768,     0.67868,     0.67968,     0.68068,     0.68168,     0.68268,     0.68368,     0.68468,     0.68569,     0.68669,     0.68769,     0.68869,     0.68969,     0.69069,     0.69169,     0.69269,     0.69369,     0.69469,      0.6957,\n",
              "            0.6967,      0.6977,      0.6987,      0.6997,      0.7007,      0.7017,      0.7027,      0.7037,      0.7047,     0.70571,     0.70671,     0.70771,     0.70871,     0.70971,     0.71071,     0.71171,     0.71271,     0.71371,     0.71471,     0.71572,     0.71672,     0.71772,     0.71872,     0.71972,\n",
              "           0.72072,     0.72172,     0.72272,     0.72372,     0.72472,     0.72573,     0.72673,     0.72773,     0.72873,     0.72973,     0.73073,     0.73173,     0.73273,     0.73373,     0.73473,     0.73574,     0.73674,     0.73774,     0.73874,     0.73974,     0.74074,     0.74174,     0.74274,     0.74374,\n",
              "           0.74474,     0.74575,     0.74675,     0.74775,     0.74875,     0.74975,     0.75075,     0.75175,     0.75275,     0.75375,     0.75475,     0.75576,     0.75676,     0.75776,     0.75876,     0.75976,     0.76076,     0.76176,     0.76276,     0.76376,     0.76476,     0.76577,     0.76677,     0.76777,\n",
              "           0.76877,     0.76977,     0.77077,     0.77177,     0.77277,     0.77377,     0.77477,     0.77578,     0.77678,     0.77778,     0.77878,     0.77978,     0.78078,     0.78178,     0.78278,     0.78378,     0.78478,     0.78579,     0.78679,     0.78779,     0.78879,     0.78979,     0.79079,     0.79179,\n",
              "           0.79279,     0.79379,     0.79479,      0.7958,      0.7968,      0.7978,      0.7988,      0.7998,      0.8008,      0.8018,      0.8028,      0.8038,      0.8048,     0.80581,     0.80681,     0.80781,     0.80881,     0.80981,     0.81081,     0.81181,     0.81281,     0.81381,     0.81481,     0.81582,\n",
              "           0.81682,     0.81782,     0.81882,     0.81982,     0.82082,     0.82182,     0.82282,     0.82382,     0.82482,     0.82583,     0.82683,     0.82783,     0.82883,     0.82983,     0.83083,     0.83183,     0.83283,     0.83383,     0.83483,     0.83584,     0.83684,     0.83784,     0.83884,     0.83984,\n",
              "           0.84084,     0.84184,     0.84284,     0.84384,     0.84484,     0.84585,     0.84685,     0.84785,     0.84885,     0.84985,     0.85085,     0.85185,     0.85285,     0.85385,     0.85485,     0.85586,     0.85686,     0.85786,     0.85886,     0.85986,     0.86086,     0.86186,     0.86286,     0.86386,\n",
              "           0.86486,     0.86587,     0.86687,     0.86787,     0.86887,     0.86987,     0.87087,     0.87187,     0.87287,     0.87387,     0.87487,     0.87588,     0.87688,     0.87788,     0.87888,     0.87988,     0.88088,     0.88188,     0.88288,     0.88388,     0.88488,     0.88589,     0.88689,     0.88789,\n",
              "           0.88889,     0.88989,     0.89089,     0.89189,     0.89289,     0.89389,     0.89489,      0.8959,      0.8969,      0.8979,      0.8989,      0.8999,      0.9009,      0.9019,      0.9029,      0.9039,      0.9049,     0.90591,     0.90691,     0.90791,     0.90891,     0.90991,     0.91091,     0.91191,\n",
              "           0.91291,     0.91391,     0.91491,     0.91592,     0.91692,     0.91792,     0.91892,     0.91992,     0.92092,     0.92192,     0.92292,     0.92392,     0.92492,     0.92593,     0.92693,     0.92793,     0.92893,     0.92993,     0.93093,     0.93193,     0.93293,     0.93393,     0.93493,     0.93594,\n",
              "           0.93694,     0.93794,     0.93894,     0.93994,     0.94094,     0.94194,     0.94294,     0.94394,     0.94494,     0.94595,     0.94695,     0.94795,     0.94895,     0.94995,     0.95095,     0.95195,     0.95295,     0.95395,     0.95495,     0.95596,     0.95696,     0.95796,     0.95896,     0.95996,\n",
              "           0.96096,     0.96196,     0.96296,     0.96396,     0.96496,     0.96597,     0.96697,     0.96797,     0.96897,     0.96997,     0.97097,     0.97197,     0.97297,     0.97397,     0.97497,     0.97598,     0.97698,     0.97798,     0.97898,     0.97998,     0.98098,     0.98198,     0.98298,     0.98398,\n",
              "           0.98498,     0.98599,     0.98699,     0.98799,     0.98899,     0.98999,     0.99099,     0.99199,     0.99299,     0.99399,     0.99499,       0.996,       0.997,       0.998,       0.999,           1]), array([[    0.01642,     0.01642,    0.023114,    0.031161,    0.055067,     0.11798,      0.2031,     0.28561,     0.33947,     0.38296,     0.42308,     0.43783,     0.45337,     0.47078,     0.48442,     0.49177,     0.50033,     0.51391,     0.52029,      0.5283,     0.53878,     0.54605,     0.55046,\n",
              "             0.5523,     0.55457,     0.55709,     0.55804,     0.55899,     0.56324,     0.56946,      0.5708,     0.57294,     0.58166,     0.58314,     0.58479,     0.58671,     0.58819,        0.59,     0.59302,      0.5999,     0.60111,     0.60225,     0.60311,     0.60375,     0.60439,     0.60503,\n",
              "            0.60608,     0.60821,     0.61193,     0.61324,     0.61555,     0.61819,     0.62443,     0.62693,     0.62836,     0.62906,     0.63411,     0.63633,     0.63926,     0.63976,     0.64026,     0.64076,     0.64127,     0.64177,     0.64407,     0.64872,     0.65407,     0.65609,     0.65721,\n",
              "            0.65838,     0.66075,     0.66302,     0.66532,      0.6684,      0.6704,     0.67531,     0.67614,     0.67697,      0.6778,     0.67864,      0.6795,     0.68036,     0.68123,     0.68209,     0.68306,     0.68405,     0.68504,     0.68605,     0.68713,      0.6882,     0.68928,     0.68988,\n",
              "            0.69037,     0.69086,     0.69135,     0.69184,     0.69233,     0.69282,     0.69401,     0.69633,     0.69924,      0.7019,     0.70428,     0.70774,     0.71045,     0.71154,     0.71273,     0.71391,      0.7225,     0.72291,     0.72331,     0.72372,     0.72412,     0.72453,     0.72494,\n",
              "            0.72534,     0.72575,     0.72615,     0.72742,     0.72898,     0.73058,     0.73251,     0.73445,     0.73415,     0.73384,     0.73353,     0.73321,     0.73395,     0.74205,     0.74358,     0.74511,     0.74818,     0.75057,     0.75163,     0.75269,     0.75374,     0.75643,     0.75939,\n",
              "            0.76044,      0.7615,     0.76255,     0.76385,     0.76581,     0.76777,     0.76846,     0.76909,     0.76971,     0.77034,     0.77097,      0.7716,     0.77223,     0.77296,     0.77376,     0.77455,     0.77535,     0.77614,     0.77694,     0.77913,      0.7817,     0.78243,     0.78307,\n",
              "            0.78371,     0.78435,     0.78499,     0.78563,     0.78628,     0.78668,     0.78686,     0.78704,     0.78722,      0.7874,     0.78758,     0.78776,     0.78794,     0.78812,      0.7883,     0.78848,     0.78866,     0.78884,     0.78902,      0.7892,     0.78938,     0.78956,     0.78974,\n",
              "            0.78992,      0.7901,     0.79028,     0.79046,     0.79064,     0.79082,       0.791,     0.79117,     0.79135,     0.79157,     0.79181,     0.79204,     0.79227,     0.79251,     0.79274,     0.79298,     0.79321,     0.79345,     0.79368,     0.79391,     0.79415,     0.79438,     0.79462,\n",
              "            0.79485,     0.79509,     0.79532,     0.79555,     0.79579,     0.79602,     0.79626,      0.7966,     0.79697,     0.79734,     0.79771,     0.79808,     0.79845,     0.79882,     0.79918,     0.79955,     0.79992,     0.80029,     0.80066,     0.80103,     0.80226,     0.80467,     0.80657,\n",
              "            0.80749,     0.80842,     0.80934,     0.81027,     0.81119,     0.81085,     0.81031,     0.81046,     0.81096,     0.81145,     0.81195,     0.81245,     0.81295,     0.81344,     0.81394,     0.81444,     0.81494,     0.81542,     0.81585,     0.81628,     0.81671,     0.81715,     0.81758,\n",
              "            0.81801,     0.81845,     0.81888,     0.81931,     0.81974,     0.82018,     0.82065,     0.82123,     0.82182,     0.82241,     0.82299,     0.82358,     0.82416,     0.82475,     0.82534,     0.83122,     0.83149,     0.83175,     0.83202,     0.83228,     0.83255,     0.83281,     0.83308,\n",
              "            0.83334,     0.83361,     0.83387,     0.83414,      0.8344,     0.83467,     0.83493,      0.8352,     0.83546,     0.83573,       0.836,     0.83626,     0.83653,     0.83679,     0.83705,     0.83731,     0.83756,     0.83782,     0.83808,     0.83834,      0.8386,     0.83886,     0.83912,\n",
              "            0.83938,     0.83964,      0.8399,     0.84016,     0.84042,     0.84068,     0.84094,      0.8412,     0.84146,     0.84171,     0.84197,     0.84291,     0.84455,     0.84618,     0.84795,     0.85126,     0.85362,     0.85437,     0.85513,     0.85589,     0.85665,      0.8574,     0.85816,\n",
              "            0.85892,     0.85898,     0.85889,      0.8588,     0.85871,     0.85861,     0.85852,     0.85843,     0.85833,     0.85824,     0.85815,     0.85879,     0.85999,     0.86118,     0.86238,     0.86358,     0.86524,      0.8671,     0.86897,     0.86967,      0.8693,     0.86896,     0.86894,\n",
              "            0.86892,      0.8689,     0.86887,     0.86885,     0.86883,     0.86881,     0.86878,     0.86876,     0.86874,     0.86871,     0.86869,     0.86867,     0.86865,     0.86862,      0.8686,     0.86858,     0.86856,     0.86853,     0.86851,     0.86849,     0.86847,     0.86844,     0.86842,\n",
              "             0.8684,     0.86838,     0.86835,     0.86833,     0.86831,     0.86829,     0.86826,     0.86824,     0.86822,     0.86819,     0.86817,     0.86815,     0.86813,      0.8681,     0.86808,     0.86806,      0.8688,     0.86969,     0.87058,     0.87147,     0.87236,     0.87325,     0.87413,\n",
              "            0.87451,     0.87489,     0.87528,     0.87566,     0.87604,     0.87642,     0.87681,     0.87719,     0.87757,     0.87795,     0.87834,     0.87872,      0.8791,     0.87948,     0.87987,     0.88025,     0.88025,     0.88022,     0.88019,     0.88016,     0.88012,     0.88009,     0.88006,\n",
              "            0.88003,        0.88,     0.87997,     0.87993,      0.8799,     0.87987,     0.87984,     0.87981,     0.87977,     0.87974,     0.87971,     0.87968,     0.87965,     0.87961,     0.87958,     0.87955,     0.87952,     0.87949,     0.87945,     0.87956,     0.87994,     0.88033,     0.88071,\n",
              "             0.8811,     0.88148,     0.88187,     0.88225,     0.88263,     0.88302,      0.8834,     0.88379,     0.88417,     0.88456,     0.88494,     0.88532,     0.88571,     0.88566,     0.88561,     0.88556,     0.88551,     0.88546,     0.88541,     0.88536,     0.88531,     0.88526,     0.88521,\n",
              "            0.88516,     0.88511,     0.88506,     0.88501,     0.88496,     0.88491,     0.88631,      0.8885,     0.89069,     0.89129,     0.89128,     0.89126,     0.89124,     0.89123,     0.89121,      0.8912,     0.89118,     0.89116,     0.89115,     0.89113,     0.89111,      0.8911,     0.89108,\n",
              "            0.89106,     0.89105,     0.89103,     0.89102,       0.891,     0.89098,     0.89097,     0.89095,     0.89093,     0.89092,      0.8909,     0.89089,     0.89087,     0.89085,     0.89084,     0.89082,      0.8908,     0.89079,     0.89077,     0.89076,     0.89074,     0.89072,     0.89071,\n",
              "            0.89069,     0.89067,     0.89066,     0.89064,     0.89063,     0.89061,     0.89059,     0.89058,     0.89056,     0.89054,     0.89053,     0.89051,      0.8907,     0.89091,     0.89111,     0.89131,     0.89152,     0.89172,     0.89192,     0.89213,     0.89233,     0.89253,     0.89274,\n",
              "            0.89294,     0.89314,     0.89335,     0.89355,     0.89375,     0.89396,     0.89416,     0.89436,     0.89457,     0.89477,     0.89497,     0.89518,     0.89538,     0.89558,     0.89579,     0.89599,     0.89619,      0.8964,      0.8966,      0.8968,     0.89701,     0.89704,     0.89702,\n",
              "            0.89701,     0.89699,     0.89697,     0.89695,     0.89693,     0.89691,     0.89689,     0.89687,     0.89685,     0.89683,     0.89681,     0.89679,     0.89677,     0.89675,     0.89673,     0.89671,     0.89669,     0.89667,     0.89665,     0.89663,     0.89661,     0.89659,     0.89658,\n",
              "            0.89656,     0.89654,     0.89652,      0.8965,     0.89648,     0.89646,     0.89644,     0.89642,      0.8964,     0.89638,     0.89636,     0.89634,     0.89632,      0.8963,     0.89753,     0.89925,     0.90096,     0.90268,     0.90332,     0.90373,     0.90414,     0.90455,     0.90496,\n",
              "            0.90537,     0.90578,     0.90619,      0.9066,       0.907,     0.90741,     0.90782,     0.90823,     0.90864,     0.90905,     0.90946,     0.91666,     0.91663,      0.9166,     0.91657,     0.91655,     0.91652,     0.91649,     0.91646,     0.91643,      0.9164,     0.91638,     0.91635,\n",
              "            0.91632,     0.91629,     0.91626,     0.91623,     0.91621,     0.91618,     0.91615,     0.91612,     0.91609,     0.91606,     0.91604,     0.92349,     0.92482,     0.92615,     0.92749,     0.92882,     0.93016,     0.93013,     0.93002,      0.9299,     0.92979,     0.92968,     0.92959,\n",
              "            0.92951,     0.92942,     0.92933,     0.92925,     0.92916,     0.92909,     0.92902,     0.92896,      0.9289,     0.92883,     0.92877,      0.9287,     0.92864,     0.92858,     0.92855,     0.92853,     0.92851,     0.92849,     0.92847,     0.92846,     0.92844,     0.92842,      0.9284,\n",
              "            0.92838,     0.92836,     0.92834,     0.92832,      0.9283,     0.92828,     0.92826,     0.92824,     0.92822,      0.9282,     0.92818,     0.92816,     0.92814,     0.92812,      0.9281,     0.92808,     0.92806,     0.92805,     0.92803,     0.92801,     0.92799,     0.92798,     0.92796,\n",
              "            0.92795,     0.92794,     0.92792,     0.92791,     0.92789,     0.92788,     0.92787,     0.92785,     0.92784,     0.92783,     0.92781,      0.9278,     0.92779,     0.92777,     0.92776,     0.92774,     0.92773,     0.92772,      0.9277,     0.92769,     0.92768,     0.92766,     0.92765,\n",
              "            0.92764,     0.92762,     0.92761,     0.92759,     0.92758,     0.92757,     0.92755,     0.92754,     0.92753,     0.92751,      0.9275,     0.92748,     0.92747,     0.92746,     0.92744,     0.92743,     0.92736,     0.92712,     0.92688,     0.92745,     0.92823,     0.92901,     0.92979,\n",
              "            0.93057,     0.93134,     0.93212,      0.9329,     0.93368,     0.93441,     0.93404,     0.93386,     0.93383,     0.93379,     0.93375,     0.93372,     0.93368,     0.93364,     0.93361,     0.93357,     0.93354,      0.9335,     0.93346,     0.93343,     0.93339,     0.93335,     0.93316,\n",
              "            0.93278,     0.93479,     0.93681,     0.93884,     0.94067,     0.94063,     0.94059,     0.94055,     0.94051,     0.94047,     0.94042,     0.94038,     0.94034,      0.9403,     0.94026,     0.94022,     0.94018,      0.9401,     0.94002,     0.93994,     0.93985,     0.93977,     0.93969,\n",
              "            0.93961,     0.93952,     0.93943,     0.93934,     0.93925,     0.93916,     0.93907,     0.93898,     0.93888,     0.93879,      0.9387,     0.93861,     0.93915,     0.93981,     0.94046,     0.94112,     0.94177,     0.94243,     0.94308,     0.94374,     0.94439,     0.94505,      0.9457,\n",
              "            0.94636,     0.94685,     0.94652,     0.94635,     0.94624,     0.94613,     0.94602,     0.94589,     0.94573,     0.94556,     0.94532,     0.94498,     0.94479,     0.94462,     0.94445,     0.94441,     0.94437,     0.94434,      0.9443,     0.94427,     0.94423,      0.9442,     0.94416,\n",
              "            0.94413,     0.94409,     0.94405,     0.94402,     0.94398,     0.94395,     0.94388,     0.94374,     0.94361,     0.94347,     0.94327,     0.94299,     0.94758,     0.95189,     0.95183,     0.95177,     0.95171,     0.95165,     0.95159,     0.95153,     0.95147,     0.95092,     0.95067,\n",
              "            0.95042,     0.95017,     0.94999,     0.94995,     0.94992,     0.94988,     0.94985,     0.94982,     0.94978,     0.94975,     0.94971,     0.94968,     0.94964,     0.94961,     0.94957,     0.94954,     0.94951,     0.94931,     0.94904,     0.94884,     0.94866,     0.94848,     0.94773,\n",
              "            0.95112,     0.95742,     0.95734,     0.95726,     0.95718,      0.9571,     0.95703,     0.95673,     0.95634,     0.95595,     0.95535,     0.95504,     0.95492,     0.95481,     0.95469,     0.95457,     0.95265,     0.95234,     0.95219,     0.95204,      0.9519,     0.95642,     0.96322,\n",
              "            0.96239,     0.96215,      0.9619,     0.96165,     0.96033,     0.95938,     0.97181,     0.97161,     0.97137,     0.97087,     0.96997,     0.97688,     0.98458,     0.98441,     0.98418,     0.98379,     0.98285,     0.98222,      0.9817,     0.98156,     0.98138,     0.98114,     0.98089,\n",
              "            0.97998,     0.97868,     0.97808,     0.97717,     0.97615,     0.97586,     0.97489,     0.97409,     0.97317,     0.97101,     0.97034,     0.96963,     0.96938,     0.96914,      0.9689,     0.96848,     0.96779,     0.96636,     0.96602,     0.96568,     0.96519,     0.96456,     0.96286,\n",
              "            0.96144,     0.96039,      0.9582,     0.95727,     0.95613,     0.95406,     0.95497,     0.97548,     0.99598,           1,           1,           1,           1,           1,           1,           1,           1,           1,           1,           1,           1,           1,           1,\n",
              "                  1,           1,           1,           1,           1,           1,           1,           1,           1,           1,           1,           1,           1,           1,           1,           1,           1,           1,           1,           1,           1,           1,           1,\n",
              "                  1,           1,           1,           1,           1,           1,           1,           1,           1,           1,           1]]), 'Confidence', 'Precision'], [array([          0,    0.001001,    0.002002,    0.003003,    0.004004,    0.005005,    0.006006,    0.007007,    0.008008,    0.009009,     0.01001,    0.011011,    0.012012,    0.013013,    0.014014,    0.015015,    0.016016,    0.017017,    0.018018,    0.019019,     0.02002,    0.021021,    0.022022,    0.023023,\n",
              "          0.024024,    0.025025,    0.026026,    0.027027,    0.028028,    0.029029,     0.03003,    0.031031,    0.032032,    0.033033,    0.034034,    0.035035,    0.036036,    0.037037,    0.038038,    0.039039,     0.04004,    0.041041,    0.042042,    0.043043,    0.044044,    0.045045,    0.046046,    0.047047,\n",
              "          0.048048,    0.049049,     0.05005,    0.051051,    0.052052,    0.053053,    0.054054,    0.055055,    0.056056,    0.057057,    0.058058,    0.059059,     0.06006,    0.061061,    0.062062,    0.063063,    0.064064,    0.065065,    0.066066,    0.067067,    0.068068,    0.069069,     0.07007,    0.071071,\n",
              "          0.072072,    0.073073,    0.074074,    0.075075,    0.076076,    0.077077,    0.078078,    0.079079,     0.08008,    0.081081,    0.082082,    0.083083,    0.084084,    0.085085,    0.086086,    0.087087,    0.088088,    0.089089,     0.09009,    0.091091,    0.092092,    0.093093,    0.094094,    0.095095,\n",
              "          0.096096,    0.097097,    0.098098,    0.099099,      0.1001,      0.1011,      0.1021,      0.1031,      0.1041,     0.10511,     0.10611,     0.10711,     0.10811,     0.10911,     0.11011,     0.11111,     0.11211,     0.11311,     0.11411,     0.11512,     0.11612,     0.11712,     0.11812,     0.11912,\n",
              "           0.12012,     0.12112,     0.12212,     0.12312,     0.12412,     0.12513,     0.12613,     0.12713,     0.12813,     0.12913,     0.13013,     0.13113,     0.13213,     0.13313,     0.13413,     0.13514,     0.13614,     0.13714,     0.13814,     0.13914,     0.14014,     0.14114,     0.14214,     0.14314,\n",
              "           0.14414,     0.14515,     0.14615,     0.14715,     0.14815,     0.14915,     0.15015,     0.15115,     0.15215,     0.15315,     0.15415,     0.15516,     0.15616,     0.15716,     0.15816,     0.15916,     0.16016,     0.16116,     0.16216,     0.16316,     0.16416,     0.16517,     0.16617,     0.16717,\n",
              "           0.16817,     0.16917,     0.17017,     0.17117,     0.17217,     0.17317,     0.17417,     0.17518,     0.17618,     0.17718,     0.17818,     0.17918,     0.18018,     0.18118,     0.18218,     0.18318,     0.18418,     0.18519,     0.18619,     0.18719,     0.18819,     0.18919,     0.19019,     0.19119,\n",
              "           0.19219,     0.19319,     0.19419,      0.1952,      0.1962,      0.1972,      0.1982,      0.1992,      0.2002,      0.2012,      0.2022,      0.2032,      0.2042,     0.20521,     0.20621,     0.20721,     0.20821,     0.20921,     0.21021,     0.21121,     0.21221,     0.21321,     0.21421,     0.21522,\n",
              "           0.21622,     0.21722,     0.21822,     0.21922,     0.22022,     0.22122,     0.22222,     0.22322,     0.22422,     0.22523,     0.22623,     0.22723,     0.22823,     0.22923,     0.23023,     0.23123,     0.23223,     0.23323,     0.23423,     0.23524,     0.23624,     0.23724,     0.23824,     0.23924,\n",
              "           0.24024,     0.24124,     0.24224,     0.24324,     0.24424,     0.24525,     0.24625,     0.24725,     0.24825,     0.24925,     0.25025,     0.25125,     0.25225,     0.25325,     0.25425,     0.25526,     0.25626,     0.25726,     0.25826,     0.25926,     0.26026,     0.26126,     0.26226,     0.26326,\n",
              "           0.26426,     0.26527,     0.26627,     0.26727,     0.26827,     0.26927,     0.27027,     0.27127,     0.27227,     0.27327,     0.27427,     0.27528,     0.27628,     0.27728,     0.27828,     0.27928,     0.28028,     0.28128,     0.28228,     0.28328,     0.28428,     0.28529,     0.28629,     0.28729,\n",
              "           0.28829,     0.28929,     0.29029,     0.29129,     0.29229,     0.29329,     0.29429,      0.2953,      0.2963,      0.2973,      0.2983,      0.2993,      0.3003,      0.3013,      0.3023,      0.3033,      0.3043,     0.30531,     0.30631,     0.30731,     0.30831,     0.30931,     0.31031,     0.31131,\n",
              "           0.31231,     0.31331,     0.31431,     0.31532,     0.31632,     0.31732,     0.31832,     0.31932,     0.32032,     0.32132,     0.32232,     0.32332,     0.32432,     0.32533,     0.32633,     0.32733,     0.32833,     0.32933,     0.33033,     0.33133,     0.33233,     0.33333,     0.33433,     0.33534,\n",
              "           0.33634,     0.33734,     0.33834,     0.33934,     0.34034,     0.34134,     0.34234,     0.34334,     0.34434,     0.34535,     0.34635,     0.34735,     0.34835,     0.34935,     0.35035,     0.35135,     0.35235,     0.35335,     0.35435,     0.35536,     0.35636,     0.35736,     0.35836,     0.35936,\n",
              "           0.36036,     0.36136,     0.36236,     0.36336,     0.36436,     0.36537,     0.36637,     0.36737,     0.36837,     0.36937,     0.37037,     0.37137,     0.37237,     0.37337,     0.37437,     0.37538,     0.37638,     0.37738,     0.37838,     0.37938,     0.38038,     0.38138,     0.38238,     0.38338,\n",
              "           0.38438,     0.38539,     0.38639,     0.38739,     0.38839,     0.38939,     0.39039,     0.39139,     0.39239,     0.39339,     0.39439,      0.3954,      0.3964,      0.3974,      0.3984,      0.3994,      0.4004,      0.4014,      0.4024,      0.4034,      0.4044,     0.40541,     0.40641,     0.40741,\n",
              "           0.40841,     0.40941,     0.41041,     0.41141,     0.41241,     0.41341,     0.41441,     0.41542,     0.41642,     0.41742,     0.41842,     0.41942,     0.42042,     0.42142,     0.42242,     0.42342,     0.42442,     0.42543,     0.42643,     0.42743,     0.42843,     0.42943,     0.43043,     0.43143,\n",
              "           0.43243,     0.43343,     0.43443,     0.43544,     0.43644,     0.43744,     0.43844,     0.43944,     0.44044,     0.44144,     0.44244,     0.44344,     0.44444,     0.44545,     0.44645,     0.44745,     0.44845,     0.44945,     0.45045,     0.45145,     0.45245,     0.45345,     0.45445,     0.45546,\n",
              "           0.45646,     0.45746,     0.45846,     0.45946,     0.46046,     0.46146,     0.46246,     0.46346,     0.46446,     0.46547,     0.46647,     0.46747,     0.46847,     0.46947,     0.47047,     0.47147,     0.47247,     0.47347,     0.47447,     0.47548,     0.47648,     0.47748,     0.47848,     0.47948,\n",
              "           0.48048,     0.48148,     0.48248,     0.48348,     0.48448,     0.48549,     0.48649,     0.48749,     0.48849,     0.48949,     0.49049,     0.49149,     0.49249,     0.49349,     0.49449,      0.4955,      0.4965,      0.4975,      0.4985,      0.4995,      0.5005,      0.5015,      0.5025,      0.5035,\n",
              "            0.5045,     0.50551,     0.50651,     0.50751,     0.50851,     0.50951,     0.51051,     0.51151,     0.51251,     0.51351,     0.51451,     0.51552,     0.51652,     0.51752,     0.51852,     0.51952,     0.52052,     0.52152,     0.52252,     0.52352,     0.52452,     0.52553,     0.52653,     0.52753,\n",
              "           0.52853,     0.52953,     0.53053,     0.53153,     0.53253,     0.53353,     0.53453,     0.53554,     0.53654,     0.53754,     0.53854,     0.53954,     0.54054,     0.54154,     0.54254,     0.54354,     0.54454,     0.54555,     0.54655,     0.54755,     0.54855,     0.54955,     0.55055,     0.55155,\n",
              "           0.55255,     0.55355,     0.55455,     0.55556,     0.55656,     0.55756,     0.55856,     0.55956,     0.56056,     0.56156,     0.56256,     0.56356,     0.56456,     0.56557,     0.56657,     0.56757,     0.56857,     0.56957,     0.57057,     0.57157,     0.57257,     0.57357,     0.57457,     0.57558,\n",
              "           0.57658,     0.57758,     0.57858,     0.57958,     0.58058,     0.58158,     0.58258,     0.58358,     0.58458,     0.58559,     0.58659,     0.58759,     0.58859,     0.58959,     0.59059,     0.59159,     0.59259,     0.59359,     0.59459,      0.5956,      0.5966,      0.5976,      0.5986,      0.5996,\n",
              "            0.6006,      0.6016,      0.6026,      0.6036,      0.6046,     0.60561,     0.60661,     0.60761,     0.60861,     0.60961,     0.61061,     0.61161,     0.61261,     0.61361,     0.61461,     0.61562,     0.61662,     0.61762,     0.61862,     0.61962,     0.62062,     0.62162,     0.62262,     0.62362,\n",
              "           0.62462,     0.62563,     0.62663,     0.62763,     0.62863,     0.62963,     0.63063,     0.63163,     0.63263,     0.63363,     0.63463,     0.63564,     0.63664,     0.63764,     0.63864,     0.63964,     0.64064,     0.64164,     0.64264,     0.64364,     0.64464,     0.64565,     0.64665,     0.64765,\n",
              "           0.64865,     0.64965,     0.65065,     0.65165,     0.65265,     0.65365,     0.65465,     0.65566,     0.65666,     0.65766,     0.65866,     0.65966,     0.66066,     0.66166,     0.66266,     0.66366,     0.66466,     0.66567,     0.66667,     0.66767,     0.66867,     0.66967,     0.67067,     0.67167,\n",
              "           0.67267,     0.67367,     0.67467,     0.67568,     0.67668,     0.67768,     0.67868,     0.67968,     0.68068,     0.68168,     0.68268,     0.68368,     0.68468,     0.68569,     0.68669,     0.68769,     0.68869,     0.68969,     0.69069,     0.69169,     0.69269,     0.69369,     0.69469,      0.6957,\n",
              "            0.6967,      0.6977,      0.6987,      0.6997,      0.7007,      0.7017,      0.7027,      0.7037,      0.7047,     0.70571,     0.70671,     0.70771,     0.70871,     0.70971,     0.71071,     0.71171,     0.71271,     0.71371,     0.71471,     0.71572,     0.71672,     0.71772,     0.71872,     0.71972,\n",
              "           0.72072,     0.72172,     0.72272,     0.72372,     0.72472,     0.72573,     0.72673,     0.72773,     0.72873,     0.72973,     0.73073,     0.73173,     0.73273,     0.73373,     0.73473,     0.73574,     0.73674,     0.73774,     0.73874,     0.73974,     0.74074,     0.74174,     0.74274,     0.74374,\n",
              "           0.74474,     0.74575,     0.74675,     0.74775,     0.74875,     0.74975,     0.75075,     0.75175,     0.75275,     0.75375,     0.75475,     0.75576,     0.75676,     0.75776,     0.75876,     0.75976,     0.76076,     0.76176,     0.76276,     0.76376,     0.76476,     0.76577,     0.76677,     0.76777,\n",
              "           0.76877,     0.76977,     0.77077,     0.77177,     0.77277,     0.77377,     0.77477,     0.77578,     0.77678,     0.77778,     0.77878,     0.77978,     0.78078,     0.78178,     0.78278,     0.78378,     0.78478,     0.78579,     0.78679,     0.78779,     0.78879,     0.78979,     0.79079,     0.79179,\n",
              "           0.79279,     0.79379,     0.79479,      0.7958,      0.7968,      0.7978,      0.7988,      0.7998,      0.8008,      0.8018,      0.8028,      0.8038,      0.8048,     0.80581,     0.80681,     0.80781,     0.80881,     0.80981,     0.81081,     0.81181,     0.81281,     0.81381,     0.81481,     0.81582,\n",
              "           0.81682,     0.81782,     0.81882,     0.81982,     0.82082,     0.82182,     0.82282,     0.82382,     0.82482,     0.82583,     0.82683,     0.82783,     0.82883,     0.82983,     0.83083,     0.83183,     0.83283,     0.83383,     0.83483,     0.83584,     0.83684,     0.83784,     0.83884,     0.83984,\n",
              "           0.84084,     0.84184,     0.84284,     0.84384,     0.84484,     0.84585,     0.84685,     0.84785,     0.84885,     0.84985,     0.85085,     0.85185,     0.85285,     0.85385,     0.85485,     0.85586,     0.85686,     0.85786,     0.85886,     0.85986,     0.86086,     0.86186,     0.86286,     0.86386,\n",
              "           0.86486,     0.86587,     0.86687,     0.86787,     0.86887,     0.86987,     0.87087,     0.87187,     0.87287,     0.87387,     0.87487,     0.87588,     0.87688,     0.87788,     0.87888,     0.87988,     0.88088,     0.88188,     0.88288,     0.88388,     0.88488,     0.88589,     0.88689,     0.88789,\n",
              "           0.88889,     0.88989,     0.89089,     0.89189,     0.89289,     0.89389,     0.89489,      0.8959,      0.8969,      0.8979,      0.8989,      0.8999,      0.9009,      0.9019,      0.9029,      0.9039,      0.9049,     0.90591,     0.90691,     0.90791,     0.90891,     0.90991,     0.91091,     0.91191,\n",
              "           0.91291,     0.91391,     0.91491,     0.91592,     0.91692,     0.91792,     0.91892,     0.91992,     0.92092,     0.92192,     0.92292,     0.92392,     0.92492,     0.92593,     0.92693,     0.92793,     0.92893,     0.92993,     0.93093,     0.93193,     0.93293,     0.93393,     0.93493,     0.93594,\n",
              "           0.93694,     0.93794,     0.93894,     0.93994,     0.94094,     0.94194,     0.94294,     0.94394,     0.94494,     0.94595,     0.94695,     0.94795,     0.94895,     0.94995,     0.95095,     0.95195,     0.95295,     0.95395,     0.95495,     0.95596,     0.95696,     0.95796,     0.95896,     0.95996,\n",
              "           0.96096,     0.96196,     0.96296,     0.96396,     0.96496,     0.96597,     0.96697,     0.96797,     0.96897,     0.96997,     0.97097,     0.97197,     0.97297,     0.97397,     0.97497,     0.97598,     0.97698,     0.97798,     0.97898,     0.97998,     0.98098,     0.98198,     0.98298,     0.98398,\n",
              "           0.98498,     0.98599,     0.98699,     0.98799,     0.98899,     0.98999,     0.99099,     0.99199,     0.99299,     0.99399,     0.99499,       0.996,       0.997,       0.998,       0.999,           1]), array([[    0.99254,     0.99254,     0.99254,     0.99254,     0.98507,     0.98507,     0.98507,     0.98507,     0.98507,     0.98507,     0.98507,     0.98507,     0.98507,     0.98507,     0.98507,     0.98507,     0.98507,     0.98507,     0.98507,     0.98507,     0.98507,     0.98507,     0.98507,\n",
              "            0.98507,     0.98507,     0.98507,     0.98507,     0.98507,     0.98507,     0.98507,     0.98507,     0.98507,     0.98507,     0.98507,     0.98507,     0.98507,     0.98507,     0.98507,     0.98507,     0.98507,     0.98507,     0.98507,     0.98507,     0.98507,     0.98507,     0.98507,\n",
              "            0.98507,     0.98507,     0.98507,     0.98507,     0.98507,     0.98507,     0.98507,     0.98507,     0.98507,     0.97761,     0.97761,     0.97761,     0.97761,     0.97761,     0.97761,     0.97761,     0.97761,     0.97761,     0.97761,     0.97761,     0.97761,     0.97761,     0.97761,\n",
              "            0.97761,     0.97761,     0.97761,     0.97761,     0.97761,     0.97761,     0.97761,     0.97761,     0.97761,     0.97761,     0.97761,     0.97761,     0.97761,     0.97761,     0.97761,     0.97761,     0.97761,     0.97761,     0.97761,     0.97761,     0.97761,     0.97761,     0.97761,\n",
              "            0.97761,     0.97761,     0.97761,     0.97761,     0.97761,     0.97761,     0.97761,     0.97761,     0.97761,     0.97761,     0.97761,     0.97761,     0.97045,     0.97015,     0.97015,     0.97015,     0.97015,     0.97015,     0.97015,     0.97015,     0.97015,     0.97015,     0.97015,\n",
              "            0.97015,     0.97015,     0.97015,     0.97015,     0.97015,     0.97015,     0.97015,     0.97015,     0.96861,     0.96707,     0.96552,     0.96397,     0.96269,     0.96269,     0.96269,     0.96269,     0.96269,     0.96269,     0.96269,     0.96269,     0.96269,     0.96269,     0.96269,\n",
              "            0.96269,     0.96269,     0.96269,     0.96269,     0.96269,     0.96269,     0.96269,     0.96269,     0.96269,     0.96269,     0.96269,     0.96269,     0.96269,     0.96269,     0.96269,     0.96269,     0.96269,     0.96269,     0.96269,     0.96269,     0.96269,     0.96269,     0.96269,\n",
              "            0.96269,     0.96269,     0.96269,     0.96269,     0.96269,     0.96269,     0.96269,     0.96269,     0.96269,     0.96269,     0.96269,     0.96269,     0.96269,     0.96269,     0.96269,     0.96269,     0.96269,     0.96269,     0.96269,     0.96269,     0.96269,     0.96269,     0.96269,\n",
              "            0.96269,     0.96269,     0.96269,     0.96269,     0.96269,     0.96269,     0.96269,     0.96269,     0.96269,     0.96269,     0.96269,     0.96269,     0.96269,     0.96269,     0.96269,     0.96269,     0.96269,     0.96269,     0.96269,     0.96269,     0.96269,     0.96269,     0.96269,\n",
              "            0.96269,     0.96269,     0.96269,     0.96269,     0.96269,     0.96269,     0.96269,     0.96269,     0.96269,     0.96269,     0.96269,     0.96269,     0.96269,     0.96269,     0.96269,     0.96269,     0.96269,     0.96269,     0.96269,     0.96269,     0.96269,     0.96269,     0.96269,\n",
              "            0.96269,     0.96269,     0.96269,     0.96269,     0.96269,     0.95976,     0.95637,     0.95522,     0.95522,     0.95522,     0.95522,     0.95522,     0.95522,     0.95522,     0.95522,     0.95522,     0.95522,     0.95522,     0.95522,     0.95522,     0.95522,     0.95522,     0.95522,\n",
              "            0.95522,     0.95522,     0.95522,     0.95522,     0.95522,     0.95522,     0.95522,     0.95522,     0.95522,     0.95522,     0.95522,     0.95522,     0.95522,     0.95522,     0.95522,     0.95522,     0.95522,     0.95522,     0.95522,     0.95522,     0.95522,     0.95522,     0.95522,\n",
              "            0.95522,     0.95522,     0.95522,     0.95522,     0.95522,     0.95522,     0.95522,     0.95522,     0.95522,     0.95522,     0.95522,     0.95522,     0.95522,     0.95522,     0.95522,     0.95522,     0.95522,     0.95522,     0.95522,     0.95522,     0.95522,     0.95522,     0.95522,\n",
              "            0.95522,     0.95522,     0.95522,     0.95522,     0.95522,     0.95522,     0.95522,     0.95522,     0.95522,     0.95522,     0.95522,     0.95522,     0.95522,     0.95522,     0.95522,     0.95522,     0.95522,     0.95522,     0.95522,     0.95522,     0.95522,     0.95522,     0.95522,\n",
              "            0.95522,     0.95463,      0.9539,     0.95317,     0.95245,     0.95172,     0.95099,     0.95026,     0.94953,      0.9488,     0.94808,     0.94776,     0.94776,     0.94776,     0.94776,     0.94776,     0.94776,     0.94776,     0.94776,     0.94617,     0.94311,     0.94028,      0.9401,\n",
              "            0.93991,     0.93973,     0.93954,     0.93936,     0.93917,     0.93899,      0.9388,     0.93861,     0.93843,     0.93824,     0.93806,     0.93787,     0.93769,      0.9375,     0.93732,     0.93713,     0.93695,     0.93676,     0.93657,     0.93639,      0.9362,     0.93602,     0.93583,\n",
              "            0.93565,     0.93546,     0.93528,     0.93509,     0.93491,     0.93472,     0.93453,     0.93435,     0.93416,     0.93398,     0.93379,     0.93361,     0.93342,     0.93324,     0.93305,     0.93287,     0.93284,     0.93284,     0.93284,     0.93284,     0.93284,     0.93284,     0.93284,\n",
              "            0.93284,     0.93284,     0.93284,     0.93284,     0.93284,     0.93284,     0.93284,     0.93284,     0.93284,     0.93284,     0.93284,     0.93284,     0.93284,     0.93284,     0.93284,     0.93284,     0.93258,      0.9323,     0.93202,     0.93174,     0.93146,     0.93118,      0.9309,\n",
              "            0.93061,     0.93033,     0.93005,     0.92977,     0.92949,     0.92921,     0.92893,     0.92865,     0.92837,     0.92809,     0.92781,     0.92753,     0.92725,     0.92697,     0.92668,      0.9264,     0.92612,     0.92584,     0.92556,     0.92537,     0.92537,     0.92537,     0.92537,\n",
              "            0.92537,     0.92537,     0.92537,     0.92537,     0.92537,     0.92537,     0.92537,     0.92537,     0.92537,     0.92537,     0.92537,     0.92537,     0.92537,     0.92492,     0.92447,     0.92401,     0.92355,      0.9231,     0.92264,     0.92218,     0.92173,     0.92127,     0.92081,\n",
              "            0.92036,      0.9199,     0.91944,     0.91899,     0.91853,     0.91807,     0.91791,     0.91791,     0.91791,      0.9178,     0.91765,     0.91749,     0.91734,     0.91719,     0.91704,     0.91688,     0.91673,     0.91658,     0.91642,     0.91627,     0.91612,     0.91596,     0.91581,\n",
              "            0.91566,     0.91551,     0.91535,      0.9152,     0.91505,     0.91489,     0.91474,     0.91459,     0.91443,     0.91428,     0.91413,     0.91398,     0.91382,     0.91367,     0.91352,     0.91336,     0.91321,     0.91306,      0.9129,     0.91275,      0.9126,     0.91245,     0.91229,\n",
              "            0.91214,     0.91199,     0.91183,     0.91168,     0.91153,     0.91137,     0.91122,     0.91107,     0.91092,     0.91076,     0.91061,     0.91046,     0.91045,     0.91045,     0.91045,     0.91045,     0.91045,     0.91045,     0.91045,     0.91045,     0.91045,     0.91045,     0.91045,\n",
              "            0.91045,     0.91045,     0.91045,     0.91045,     0.91045,     0.91045,     0.91045,     0.91045,     0.91045,     0.91045,     0.91045,     0.91045,     0.91045,     0.91045,     0.91045,     0.91045,     0.91045,     0.91045,     0.91045,     0.91045,     0.91045,     0.91031,     0.91011,\n",
              "            0.90992,     0.90973,     0.90954,     0.90935,     0.90916,     0.90897,     0.90878,     0.90858,     0.90839,      0.9082,     0.90801,     0.90782,     0.90763,     0.90744,     0.90725,     0.90705,     0.90686,     0.90667,     0.90648,     0.90629,      0.9061,     0.90591,     0.90572,\n",
              "            0.90552,     0.90533,     0.90514,     0.90495,     0.90476,     0.90457,     0.90438,     0.90419,     0.90399,      0.9038,     0.90361,     0.90342,     0.90323,     0.90304,     0.90299,     0.90299,     0.90299,     0.90299,     0.90299,     0.90299,     0.90299,     0.90299,     0.90299,\n",
              "            0.90299,     0.90299,     0.90299,     0.90299,     0.90299,     0.90299,     0.90299,     0.90299,     0.90299,     0.90299,     0.90299,     0.90291,     0.90257,     0.90224,     0.90191,     0.90158,     0.90124,     0.90091,     0.90058,     0.90025,     0.89991,     0.89958,     0.89925,\n",
              "            0.89892,     0.89858,     0.89825,     0.89792,     0.89759,     0.89725,     0.89692,     0.89659,     0.89626,     0.89592,     0.89559,     0.89552,     0.89552,     0.89552,     0.89552,     0.89552,     0.89552,     0.89408,     0.89255,     0.89102,     0.88949,     0.88798,     0.88681,\n",
              "            0.88563,     0.88445,     0.88328,      0.8821,     0.88092,     0.87998,     0.87913,     0.87828,     0.87743,     0.87658,     0.87573,     0.87488,     0.87403,     0.87318,     0.87289,     0.87264,     0.87238,     0.87213,     0.87187,     0.87162,     0.87136,     0.87111,     0.87085,\n",
              "             0.8706,     0.87034,     0.87009,     0.86983,     0.86958,     0.86932,     0.86907,     0.86881,     0.86856,      0.8683,     0.86805,     0.86779,     0.86754,     0.86728,     0.86703,     0.86677,     0.86652,     0.86626,     0.86601,     0.86575,     0.86555,     0.86538,      0.8652,\n",
              "            0.86503,     0.86485,     0.86467,      0.8645,     0.86432,     0.86415,     0.86397,     0.86379,     0.86362,     0.86344,     0.86327,     0.86309,     0.86292,     0.86274,     0.86256,     0.86239,     0.86221,     0.86204,     0.86186,     0.86168,     0.86151,     0.86133,     0.86116,\n",
              "            0.86098,      0.8608,     0.86063,     0.86045,     0.86028,      0.8601,     0.85993,     0.85975,     0.85957,      0.8594,     0.85922,     0.85905,     0.85887,     0.85869,     0.85852,     0.85834,     0.85748,     0.85442,     0.85136,     0.85075,     0.85075,     0.85075,     0.85075,\n",
              "            0.85075,     0.85075,     0.85075,     0.85075,     0.85075,     0.85053,     0.84543,       0.843,      0.8425,     0.84201,     0.84152,     0.84102,     0.84053,     0.84004,     0.83954,     0.83905,     0.83856,     0.83806,     0.83757,     0.83708,     0.83658,     0.83609,     0.83349,\n",
              "            0.82839,     0.82836,     0.82836,     0.82836,      0.8283,     0.82769,     0.82708,     0.82647,     0.82585,     0.82524,     0.82463,     0.82402,     0.82341,     0.82279,     0.82218,     0.82157,     0.82096,     0.81984,     0.81866,     0.81749,     0.81631,     0.81513,     0.81396,\n",
              "            0.81272,     0.81145,     0.81017,      0.8089,     0.80762,     0.80635,     0.80507,      0.8038,     0.80253,     0.80125,     0.79998,      0.7987,     0.79851,     0.79851,     0.79851,     0.79851,     0.79851,     0.79851,     0.79851,     0.79851,     0.79851,     0.79851,     0.79851,\n",
              "            0.79851,     0.79766,     0.79256,     0.78985,     0.78815,     0.78645,     0.78475,     0.78279,     0.78024,     0.77769,     0.77415,     0.76905,      0.7663,     0.76376,     0.76121,     0.76069,     0.76018,     0.75967,     0.75916,     0.75865,     0.75814,     0.75763,     0.75712,\n",
              "            0.75661,      0.7561,     0.75559,     0.75508,     0.75457,     0.75406,     0.75304,     0.75113,     0.74921,      0.7473,     0.74451,     0.74069,     0.73881,      0.7383,     0.73734,     0.73638,     0.73543,     0.73447,     0.73352,     0.73256,      0.7316,     0.72296,     0.71914,\n",
              "            0.71531,     0.71149,     0.70878,     0.70827,     0.70776,     0.70725,     0.70674,     0.70623,     0.70572,     0.70521,      0.7047,     0.70419,     0.70368,     0.70317,     0.70266,     0.70215,     0.70164,      0.6988,     0.69497,     0.69211,     0.68956,     0.68701,     0.67652,\n",
              "            0.67164,     0.67115,     0.66987,      0.6686,     0.66732,     0.66605,     0.66477,      0.6601,     0.65387,      0.6478,      0.6387,     0.63408,     0.63238,     0.63068,     0.62898,     0.62728,     0.60064,     0.59646,     0.59455,     0.59264,     0.59072,     0.58955,      0.5864,\n",
              "            0.57296,     0.56913,     0.56531,     0.56148,     0.54205,     0.52877,     0.51456,     0.51074,     0.50636,     0.49742,     0.48212,     0.47761,     0.47638,     0.47128,      0.4642,     0.45281,     0.42764,     0.41235,      0.4003,     0.39725,     0.39329,     0.38819,     0.38309,\n",
              "            0.36533,     0.34257,     0.33297,     0.31943,     0.30551,     0.30169,     0.28975,     0.28062,     0.27072,     0.25001,     0.24423,     0.23825,     0.23634,     0.23442,     0.23251,     0.22936,     0.22426,      0.2144,     0.21221,     0.21002,       0.207,     0.20318,     0.19348,\n",
              "            0.18608,     0.18098,     0.17109,     0.16726,      0.1627,     0.15505,     0.14179,     0.14179,     0.14179,     0.13187,     0.12881,     0.12129,    0.091061,    0.075195,    0.053001,    0.037508,    0.034331,    0.031272,     0.02922,    0.028044,    0.026867,     0.02569,    0.024513,\n",
              "           0.023336,    0.020901,    0.014646,    0.013372,    0.012097,    0.010822,   0.0095469,    0.008272,           0,           0,           0,           0,           0,           0,           0,           0,           0,           0,           0,           0,           0,           0,           0,\n",
              "                  0,           0,           0,           0,           0,           0,           0,           0,           0,           0,           0]]), 'Confidence', 'Recall']]\n",
              "fitness: 0.768824846954666\n",
              "keys: ['metrics/precision(B)', 'metrics/recall(B)', 'metrics/mAP50(B)', 'metrics/mAP50-95(B)']\n",
              "maps: array([    0.74924])\n",
              "names: {0: 'tomato'}\n",
              "plot: True\n",
              "results_dict: {'metrics/precision(B)': 0.905776696313178, 'metrics/recall(B)': 0.9029850746268657, 'metrics/mAP50(B)': 0.9450438278188221, 'metrics/mAP50-95(B)': 0.749244960191982, 'fitness': 0.768824846954666}\n",
              "save_dir: PosixPath('runs/detect/train2')\n",
              "speed: {'preprocess': 0.21456789087366174, 'inference': 2.5124108349835432, 'loss': 0.00038853398075810184, 'postprocess': 1.522046548348886}\n",
              "task: 'detect'"
            ]
          },
          "metadata": {},
          "execution_count": 10
        }
      ]
    },
    {
      "cell_type": "code",
      "execution_count": null,
      "id": "7fb77bb8-ca9f-4bd9-92f1-0dbcf4ae05ed",
      "metadata": {
        "colab": {
          "base_uri": "https://localhost:8080/",
          "height": 34
        },
        "id": "7fb77bb8-ca9f-4bd9-92f1-0dbcf4ae05ed",
        "outputId": "580aa9e4-51af-4693-8ec7-9a33dd174b4f"
      },
      "outputs": [
        {
          "output_type": "display_data",
          "data": {
            "text/plain": [
              "<IPython.core.display.Javascript object>"
            ],
            "application/javascript": [
              "\n",
              "    async function download(id, filename, size) {\n",
              "      if (!google.colab.kernel.accessAllowed) {\n",
              "        return;\n",
              "      }\n",
              "      const div = document.createElement('div');\n",
              "      const label = document.createElement('label');\n",
              "      label.textContent = `Downloading \"${filename}\": `;\n",
              "      div.appendChild(label);\n",
              "      const progress = document.createElement('progress');\n",
              "      progress.max = size;\n",
              "      div.appendChild(progress);\n",
              "      document.body.appendChild(div);\n",
              "\n",
              "      const buffers = [];\n",
              "      let downloaded = 0;\n",
              "\n",
              "      const channel = await google.colab.kernel.comms.open(id);\n",
              "      // Send a message to notify the kernel that we're ready.\n",
              "      channel.send({})\n",
              "\n",
              "      for await (const message of channel.messages) {\n",
              "        // Send a message to notify the kernel that we're ready.\n",
              "        channel.send({})\n",
              "        if (message.buffers) {\n",
              "          for (const buffer of message.buffers) {\n",
              "            buffers.push(buffer);\n",
              "            downloaded += buffer.byteLength;\n",
              "            progress.value = downloaded;\n",
              "          }\n",
              "        }\n",
              "      }\n",
              "      const blob = new Blob(buffers, {type: 'application/binary'});\n",
              "      const a = document.createElement('a');\n",
              "      a.href = window.URL.createObjectURL(blob);\n",
              "      a.download = filename;\n",
              "      div.appendChild(a);\n",
              "      a.click();\n",
              "      div.remove();\n",
              "    }\n",
              "  "
            ]
          },
          "metadata": {}
        },
        {
          "output_type": "display_data",
          "data": {
            "text/plain": [
              "<IPython.core.display.Javascript object>"
            ],
            "application/javascript": [
              "download(\"download_8b846216-520f-4d1f-8d1b-dffbffbc733f\", \"train2\", 4096)"
            ]
          },
          "metadata": {}
        }
      ],
      "source": [
        "from google.colab import files\n",
        "files.download(\"/content/runs/detect/train2\")"
      ]
    },
    {
      "cell_type": "code",
      "execution_count": null,
      "id": "229212cc-8a20-4818-b34b-6425c2e319ba",
      "metadata": {
        "id": "229212cc-8a20-4818-b34b-6425c2e319ba"
      },
      "outputs": [],
      "source": []
    },
    {
      "cell_type": "code",
      "source": [],
      "metadata": {
        "id": "_lSotcv-xlXs"
      },
      "id": "_lSotcv-xlXs",
      "execution_count": null,
      "outputs": []
    }
  ],
  "metadata": {
    "kernelspec": {
      "display_name": "Python 3",
      "name": "python3"
    },
    "language_info": {
      "codemirror_mode": {
        "name": "ipython",
        "version": 3
      },
      "file_extension": ".py",
      "mimetype": "text/x-python",
      "name": "python",
      "nbconvert_exporter": "python",
      "pygments_lexer": "ipython3",
      "version": "3.12.7"
    },
    "colab": {
      "provenance": [],
      "gpuType": "T4"
    },
    "accelerator": "GPU"
  },
  "nbformat": 4,
  "nbformat_minor": 5
}