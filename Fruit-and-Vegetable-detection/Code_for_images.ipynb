{
 "cells": [
  {
   "cell_type": "code",
   "execution_count": 1,
   "id": "21d324b6-0a22-45d8-85d0-753a79451a77",
   "metadata": {},
   "outputs": [],
   "source": [
    "#Importing the libraries\n",
    "import cv2\n",
    "import requests\n",
    "from ultralytics import YOLO\n",
    "import matplotlib as plt"
   ]
  },
  {
   "cell_type": "code",
   "execution_count": 2,
   "id": "1c6156f4-dc54-4020-9ee3-7c1bdb5b15fd",
   "metadata": {},
   "outputs": [],
   "source": [
    "# Load YOLO11n model\n",
    "model = YOLO(\"runs/detect/train/weights/best.pt\")"
   ]
  },
  {
   "cell_type": "code",
   "execution_count": null,
   "id": "ac49686f-8676-48c3-9163-b5e343dc8998",
   "metadata": {},
   "outputs": [],
   "source": [
    "# Telegram Bot Details\n",
    "BOT_TOKEN = \"...\"  # Replace with your Telegram bot token\n",
    "CHAT_ID = \"...\"  # Replace with your Telegram chat ID"
   ]
  },
  {
   "cell_type": "code",
   "execution_count": 4,
   "id": "927fafb2-aef0-4f43-9ebe-d699f7100e2a",
   "metadata": {},
   "outputs": [],
   "source": [
    "# Define class names (Replace these with actual names and IDs)\n",
    "CLASS_NAMES = {\n",
    "    0: \"Cabbage\",\n",
    "    1: \"Capsicum\",\n",
    "    2: \"orange\",\n",
    "    3: \"tomato\",\n",
    "    4:\"watermelon\"\n",
    "}"
   ]
  },
  {
   "cell_type": "code",
   "execution_count": 5,
   "id": "303bf181-7dff-440d-956b-880d93422f95",
   "metadata": {},
   "outputs": [],
   "source": [
    "#Telegram related functions for message delivery\n",
    "def send_telegram_alert(message):\n",
    "    \"\"\"Send a Telegram message\"\"\"\n",
    "    url = f\"https://api.telegram.org/bot{BOT_TOKEN}/sendMessage\"\n",
    "    payload = {\"chat_id\": CHAT_ID, \"text\": message}\n",
    "    response = requests.post(url, json=payload)\n",
    "    print(\"✅ Telegram alert sent!\", response.json())"
   ]
  },
  {
   "cell_type": "code",
   "execution_count": 15,
   "id": "5cb6df75-edc6-4f20-a35d-dd14d8e70ffb",
   "metadata": {},
   "outputs": [
    {
     "name": "stdout",
     "output_type": "stream",
     "text": [
      "\n",
      "0: 576x640 4 Capsicums, 81.8ms\n",
      "Speed: 4.3ms preprocess, 81.8ms inference, 2.0ms postprocess per image at shape (1, 3, 576, 640)\n"
     ]
    }
   ],
   "source": [
    "# Load and process the image\n",
    "image_path = \"capsicum.jpeg\"  # Change this to your image\n",
    "output_path = \"Output images/capsicum.jpeg\"\n",
    "image = cv2.imread(image_path)\n",
    "results = model(image)"
   ]
  },
  {
   "cell_type": "code",
   "execution_count": 16,
   "id": "937518ad-c89b-445c-8112-25265f2187e3",
   "metadata": {},
   "outputs": [],
   "source": [
    "# Dictionary to count objects per category\n",
    "category_counts = {name: 0 for name in CLASS_NAMES.values()}"
   ]
  },
  {
   "cell_type": "code",
   "execution_count": 17,
   "id": "42de778f-d3f8-456a-bc43-66d9be87ad0b",
   "metadata": {},
   "outputs": [
    {
     "name": "stdout",
     "output_type": "stream",
     "text": [
      "✅ Output saved as Output images/capsicum.jpeg\n",
      "✅ Telegram alert sent! {'ok': True, 'result': {'message_id': 7, 'from': {'id': 8188314211, 'is_bot': True, 'first_name': 'Task_detection', 'username': 'Task_detection_bot'}, 'chat': {'id': 1443202982, 'first_name': 'Utkarsh', 'last_name': 'Srivastava', 'type': 'private'}, 'date': 1741720969, 'text': '🔔 Detection Report:\\nCabbage: 0\\nCapsicum: 4\\norange: 0\\ntomato: 0\\nwatermelon: 0'}}\n"
     ]
    }
   ],
   "source": [
    "# Process detections\n",
    "for r in results:\n",
    "    for box in r.boxes:\n",
    "        class_id = int(box.cls[0])  # Get class index\n",
    "        confidence = float(box.conf[0])  # Confidence score\n",
    "        \n",
    "        if class_id in CLASS_NAMES and confidence >= 0.3:\n",
    "            category_name = CLASS_NAMES[class_id]\n",
    "            category_counts[category_name] += 1  # Count objects\n",
    "            \n",
    "            # Get bounding box coordinates\n",
    "            x1, y1, x2, y2 = map(int, box.xyxy[0])\n",
    "            \n",
    "            # Assign a color (change as needed)\n",
    "            color = (0, 255, 0) if category_name == \"Tomato\" else (255, 0, 0)\n",
    "            \n",
    "            # Draw bounding box and label\n",
    "            cv2.rectangle(image, (x1, y1), (x2, y2), color, 2)\n",
    "            cv2.putText(image, category_name, (x1, y1 - 5),\n",
    "                        cv2.FONT_HERSHEY_SIMPLEX, 0.5, color, 2)\n",
    "\n",
    "# Display category counts on the image\n",
    "y_offset = 40\n",
    "for category, count in category_counts.items():\n",
    "    cv2.putText(image, f\"{category}: {count}\", (20, y_offset),\n",
    "                cv2.FONT_HERSHEY_SIMPLEX, 0.7, (0, 0, 255), 2)\n",
    "    y_offset += 30\n",
    "\n",
    "# Save and display output image\n",
    "cv2.imwrite(output_path, image)\n",
    "print(f\"✅ Output saved as {output_path}\")\n",
    "\n",
    "# Generate Telegram alert message\n",
    "alert_message = \"🔔 Detection Report:\\n\"\n",
    "for category, count in category_counts.items():\n",
    "    alert_message += f\"{category}: {count}\\n\"\n",
    "\n",
    "# Send alert if any category has less than 5 objects\n",
    "if any(count < 5 for count in category_counts.values()):\n",
    "    send_telegram_alert(alert_message)"
   ]
  },
  {
   "cell_type": "code",
   "execution_count": 18,
   "id": "dd315940-8a8d-47f8-b72b-2c11bfb01624",
   "metadata": {},
   "outputs": [],
   "source": [
    "cv2.imshow(\"Tomato Detection\", image)\n",
    "cv2.waitKey(0)\n",
    "cv2.destroyAllWindows()"
   ]
  }
 ],
 "metadata": {
  "kernelspec": {
   "display_name": "Python 3 (ipykernel)",
   "language": "python",
   "name": "python3"
  },
  "language_info": {
   "codemirror_mode": {
    "name": "ipython",
    "version": 3
   },
   "file_extension": ".py",
   "mimetype": "text/x-python",
   "name": "python",
   "nbconvert_exporter": "python",
   "pygments_lexer": "ipython3",
   "version": "3.12.7"
  }
 },
 "nbformat": 4,
 "nbformat_minor": 5
}
